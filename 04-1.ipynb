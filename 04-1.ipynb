{
 "cells": [
  {
   "cell_type": "markdown",
   "id": "f9ea6ec8",
   "metadata": {},
   "source": [
    "# 04-1 통계로 요약하기"
   ]
  },
  {
   "cell_type": "markdown",
   "id": "e6603670",
   "metadata": {},
   "source": [
    "<table class=\"tfo-notebook-buttons\" align=\"left\">\n",
    "  <td>\n",
    "    <a target=\"_blank\" href=\"https://nbviewer.jupyter.org/github/rickiepark/hg-da/blob/main/04-1.ipynb\"><img src=\"https://jupyter.org/assets/share.png\" width=\"61\" />주피터 노트북 뷰어로 보기</a>\n",
    "  </td>\n",
    "  <td>\n",
    "    <a target=\"_blank\" href=\"https://colab.research.google.com/github/rickiepark/hg-da/blobl/main/04-1.ipynb\"><img src=\"https://www.tensorflow.org/images/colab_logo_32px.png\" />구글 코랩(Colab)에서 실행하기</a>\n",
    "  </td>\n",
    "</table>"
   ]
  },
  {
   "cell_type": "markdown",
   "id": "2808d3b5",
   "metadata": {},
   "source": [
    "## 기술통계 구하기"
   ]
  },
  {
   "cell_type": "code",
   "execution_count": 1,
   "id": "dec4d531",
   "metadata": {},
   "outputs": [
    {
     "name": "stderr",
     "output_type": "stream",
     "text": [
      "Downloading...\n",
      "From: https://bit.ly/3736JW1\n",
      "To: /Users/haesun/github/hg-da/ns_book6.csv\n",
      "100%|██████████| 55.0M/55.0M [00:04<00:00, 11.3MB/s]\n"
     ]
    },
    {
     "data": {
      "text/plain": [
       "'ns_book6.csv'"
      ]
     },
     "execution_count": 1,
     "metadata": {},
     "output_type": "execute_result"
    }
   ],
   "source": [
    "import gdown\n",
    "\n",
    "gdown.download('https://bit.ly/3736JW1', 'ns_book6.csv', quiet=False)"
   ]
  },
  {
   "cell_type": "code",
   "execution_count": 2,
   "id": "158388b2",
   "metadata": {},
   "outputs": [
    {
     "data": {
      "text/html": [
       "<div>\n",
       "<style scoped>\n",
       "    .dataframe tbody tr th:only-of-type {\n",
       "        vertical-align: middle;\n",
       "    }\n",
       "\n",
       "    .dataframe tbody tr th {\n",
       "        vertical-align: top;\n",
       "    }\n",
       "\n",
       "    .dataframe thead th {\n",
       "        text-align: right;\n",
       "    }\n",
       "</style>\n",
       "<table border=\"1\" class=\"dataframe\">\n",
       "  <thead>\n",
       "    <tr style=\"text-align: right;\">\n",
       "      <th></th>\n",
       "      <th>번호</th>\n",
       "      <th>도서명</th>\n",
       "      <th>저자</th>\n",
       "      <th>출판사</th>\n",
       "      <th>발행년도</th>\n",
       "      <th>ISBN</th>\n",
       "      <th>세트 ISBN</th>\n",
       "      <th>부가기호</th>\n",
       "      <th>권</th>\n",
       "      <th>주제분류번호</th>\n",
       "      <th>도서권수</th>\n",
       "      <th>대출건수</th>\n",
       "      <th>등록일자</th>\n",
       "    </tr>\n",
       "  </thead>\n",
       "  <tbody>\n",
       "    <tr>\n",
       "      <th>0</th>\n",
       "      <td>1</td>\n",
       "      <td>인공지능과 흙</td>\n",
       "      <td>김동훈 지음</td>\n",
       "      <td>민음사</td>\n",
       "      <td>2021.0</td>\n",
       "      <td>9788937444319</td>\n",
       "      <td>NaN</td>\n",
       "      <td>NaN</td>\n",
       "      <td>NaN</td>\n",
       "      <td>NaN</td>\n",
       "      <td>1</td>\n",
       "      <td>0</td>\n",
       "      <td>2021-03-19</td>\n",
       "    </tr>\n",
       "    <tr>\n",
       "      <th>1</th>\n",
       "      <td>2</td>\n",
       "      <td>가짜 행복 권하는 사회</td>\n",
       "      <td>김태형 지음</td>\n",
       "      <td>갈매나무</td>\n",
       "      <td>2021.0</td>\n",
       "      <td>9791190123969</td>\n",
       "      <td>NaN</td>\n",
       "      <td>NaN</td>\n",
       "      <td>NaN</td>\n",
       "      <td>NaN</td>\n",
       "      <td>1</td>\n",
       "      <td>0</td>\n",
       "      <td>2021-03-19</td>\n",
       "    </tr>\n",
       "    <tr>\n",
       "      <th>2</th>\n",
       "      <td>3</td>\n",
       "      <td>나도 한 문장 잘 쓰면 바랄 게 없겠네</td>\n",
       "      <td>김선영 지음</td>\n",
       "      <td>블랙피쉬</td>\n",
       "      <td>2021.0</td>\n",
       "      <td>9788968332982</td>\n",
       "      <td>NaN</td>\n",
       "      <td>NaN</td>\n",
       "      <td>NaN</td>\n",
       "      <td>NaN</td>\n",
       "      <td>1</td>\n",
       "      <td>0</td>\n",
       "      <td>2021-03-19</td>\n",
       "    </tr>\n",
       "    <tr>\n",
       "      <th>3</th>\n",
       "      <td>4</td>\n",
       "      <td>예루살렘 해변</td>\n",
       "      <td>이도 게펜 지음, 임재희 옮김</td>\n",
       "      <td>문학세계사</td>\n",
       "      <td>2021.0</td>\n",
       "      <td>9788970759906</td>\n",
       "      <td>NaN</td>\n",
       "      <td>NaN</td>\n",
       "      <td>NaN</td>\n",
       "      <td>NaN</td>\n",
       "      <td>1</td>\n",
       "      <td>0</td>\n",
       "      <td>2021-03-19</td>\n",
       "    </tr>\n",
       "    <tr>\n",
       "      <th>4</th>\n",
       "      <td>5</td>\n",
       "      <td>김성곤의 중국한시기행 : 장강·황하 편</td>\n",
       "      <td>김성곤 지음</td>\n",
       "      <td>김영사</td>\n",
       "      <td>2021.0</td>\n",
       "      <td>9788934990833</td>\n",
       "      <td>NaN</td>\n",
       "      <td>NaN</td>\n",
       "      <td>NaN</td>\n",
       "      <td>NaN</td>\n",
       "      <td>1</td>\n",
       "      <td>0</td>\n",
       "      <td>2021-03-19</td>\n",
       "    </tr>\n",
       "  </tbody>\n",
       "</table>\n",
       "</div>"
      ],
      "text/plain": [
       "   번호                    도서명                저자    출판사    발행년도           ISBN  \\\n",
       "0   1                인공지능과 흙            김동훈 지음    민음사  2021.0  9788937444319   \n",
       "1   2           가짜 행복 권하는 사회            김태형 지음   갈매나무  2021.0  9791190123969   \n",
       "2   3  나도 한 문장 잘 쓰면 바랄 게 없겠네            김선영 지음   블랙피쉬  2021.0  9788968332982   \n",
       "3   4                예루살렘 해변  이도 게펜 지음, 임재희 옮김  문학세계사  2021.0  9788970759906   \n",
       "4   5  김성곤의 중국한시기행 : 장강·황하 편            김성곤 지음    김영사  2021.0  9788934990833   \n",
       "\n",
       "  세트 ISBN 부가기호    권 주제분류번호  도서권수  대출건수        등록일자  \n",
       "0     NaN  NaN  NaN    NaN     1     0  2021-03-19  \n",
       "1     NaN  NaN  NaN    NaN     1     0  2021-03-19  \n",
       "2     NaN  NaN  NaN    NaN     1     0  2021-03-19  \n",
       "3     NaN  NaN  NaN    NaN     1     0  2021-03-19  \n",
       "4     NaN  NaN  NaN    NaN     1     0  2021-03-19  "
      ]
     },
     "execution_count": 2,
     "metadata": {},
     "output_type": "execute_result"
    }
   ],
   "source": [
    "import pandas as pd\n",
    "\n",
    "ns_book6 = pd.read_csv('ns_book6.csv', low_memory=False)\n",
    "ns_book6.head()"
   ]
  },
  {
   "cell_type": "code",
   "execution_count": 3,
   "id": "2af026e1",
   "metadata": {
    "scrolled": true
   },
   "outputs": [
    {
     "data": {
      "text/html": [
       "<div>\n",
       "<style scoped>\n",
       "    .dataframe tbody tr th:only-of-type {\n",
       "        vertical-align: middle;\n",
       "    }\n",
       "\n",
       "    .dataframe tbody tr th {\n",
       "        vertical-align: top;\n",
       "    }\n",
       "\n",
       "    .dataframe thead th {\n",
       "        text-align: right;\n",
       "    }\n",
       "</style>\n",
       "<table border=\"1\" class=\"dataframe\">\n",
       "  <thead>\n",
       "    <tr style=\"text-align: right;\">\n",
       "      <th></th>\n",
       "      <th>번호</th>\n",
       "      <th>발행년도</th>\n",
       "      <th>도서권수</th>\n",
       "      <th>대출건수</th>\n",
       "    </tr>\n",
       "  </thead>\n",
       "  <tbody>\n",
       "    <tr>\n",
       "      <th>count</th>\n",
       "      <td>379976.000000</td>\n",
       "      <td>379976.000000</td>\n",
       "      <td>379976.000000</td>\n",
       "      <td>379976.000000</td>\n",
       "    </tr>\n",
       "    <tr>\n",
       "      <th>mean</th>\n",
       "      <td>201726.332847</td>\n",
       "      <td>2008.516306</td>\n",
       "      <td>1.135874</td>\n",
       "      <td>11.504629</td>\n",
       "    </tr>\n",
       "    <tr>\n",
       "      <th>std</th>\n",
       "      <td>115836.454596</td>\n",
       "      <td>8.780529</td>\n",
       "      <td>0.483343</td>\n",
       "      <td>19.241926</td>\n",
       "    </tr>\n",
       "    <tr>\n",
       "      <th>min</th>\n",
       "      <td>1.000000</td>\n",
       "      <td>1947.000000</td>\n",
       "      <td>0.000000</td>\n",
       "      <td>0.000000</td>\n",
       "    </tr>\n",
       "    <tr>\n",
       "      <th>25%</th>\n",
       "      <td>102202.750000</td>\n",
       "      <td>2003.000000</td>\n",
       "      <td>1.000000</td>\n",
       "      <td>2.000000</td>\n",
       "    </tr>\n",
       "    <tr>\n",
       "      <th>50%</th>\n",
       "      <td>203179.500000</td>\n",
       "      <td>2009.000000</td>\n",
       "      <td>1.000000</td>\n",
       "      <td>6.000000</td>\n",
       "    </tr>\n",
       "    <tr>\n",
       "      <th>75%</th>\n",
       "      <td>301630.250000</td>\n",
       "      <td>2015.000000</td>\n",
       "      <td>1.000000</td>\n",
       "      <td>14.000000</td>\n",
       "    </tr>\n",
       "    <tr>\n",
       "      <th>max</th>\n",
       "      <td>401681.000000</td>\n",
       "      <td>2650.000000</td>\n",
       "      <td>40.000000</td>\n",
       "      <td>1765.000000</td>\n",
       "    </tr>\n",
       "  </tbody>\n",
       "</table>\n",
       "</div>"
      ],
      "text/plain": [
       "                  번호           발행년도           도서권수           대출건수\n",
       "count  379976.000000  379976.000000  379976.000000  379976.000000\n",
       "mean   201726.332847    2008.516306       1.135874      11.504629\n",
       "std    115836.454596       8.780529       0.483343      19.241926\n",
       "min         1.000000    1947.000000       0.000000       0.000000\n",
       "25%    102202.750000    2003.000000       1.000000       2.000000\n",
       "50%    203179.500000    2009.000000       1.000000       6.000000\n",
       "75%    301630.250000    2015.000000       1.000000      14.000000\n",
       "max    401681.000000    2650.000000      40.000000    1765.000000"
      ]
     },
     "execution_count": 3,
     "metadata": {},
     "output_type": "execute_result"
    }
   ],
   "source": [
    "ns_book6.describe()"
   ]
  },
  {
   "cell_type": "code",
   "execution_count": 4,
   "id": "2b7c01bf",
   "metadata": {},
   "outputs": [
    {
     "data": {
      "text/plain": [
       "3206"
      ]
     },
     "execution_count": 4,
     "metadata": {},
     "output_type": "execute_result"
    }
   ],
   "source": [
    "sum(ns_book6['도서권수']==0)"
   ]
  },
  {
   "cell_type": "code",
   "execution_count": 5,
   "id": "16d05599",
   "metadata": {},
   "outputs": [],
   "source": [
    "ns_book7 = ns_book6[ns_book6['도서권수']>0]"
   ]
  },
  {
   "cell_type": "code",
   "execution_count": 6,
   "id": "af207f47",
   "metadata": {},
   "outputs": [
    {
     "data": {
      "text/html": [
       "<div>\n",
       "<style scoped>\n",
       "    .dataframe tbody tr th:only-of-type {\n",
       "        vertical-align: middle;\n",
       "    }\n",
       "\n",
       "    .dataframe tbody tr th {\n",
       "        vertical-align: top;\n",
       "    }\n",
       "\n",
       "    .dataframe thead th {\n",
       "        text-align: right;\n",
       "    }\n",
       "</style>\n",
       "<table border=\"1\" class=\"dataframe\">\n",
       "  <thead>\n",
       "    <tr style=\"text-align: right;\">\n",
       "      <th></th>\n",
       "      <th>번호</th>\n",
       "      <th>발행년도</th>\n",
       "      <th>도서권수</th>\n",
       "      <th>대출건수</th>\n",
       "    </tr>\n",
       "  </thead>\n",
       "  <tbody>\n",
       "    <tr>\n",
       "      <th>count</th>\n",
       "      <td>376770.000000</td>\n",
       "      <td>376770.000000</td>\n",
       "      <td>376770.000000</td>\n",
       "      <td>376770.000000</td>\n",
       "    </tr>\n",
       "    <tr>\n",
       "      <th>mean</th>\n",
       "      <td>202977.476649</td>\n",
       "      <td>2008.460076</td>\n",
       "      <td>1.145540</td>\n",
       "      <td>11.593439</td>\n",
       "    </tr>\n",
       "    <tr>\n",
       "      <th>std</th>\n",
       "      <td>115298.245784</td>\n",
       "      <td>8.773148</td>\n",
       "      <td>0.473853</td>\n",
       "      <td>19.279409</td>\n",
       "    </tr>\n",
       "    <tr>\n",
       "      <th>min</th>\n",
       "      <td>1.000000</td>\n",
       "      <td>1947.000000</td>\n",
       "      <td>1.000000</td>\n",
       "      <td>0.000000</td>\n",
       "    </tr>\n",
       "    <tr>\n",
       "      <th>30%</th>\n",
       "      <td>124649.700000</td>\n",
       "      <td>2004.000000</td>\n",
       "      <td>1.000000</td>\n",
       "      <td>2.000000</td>\n",
       "    </tr>\n",
       "    <tr>\n",
       "      <th>50%</th>\n",
       "      <td>204550.500000</td>\n",
       "      <td>2009.000000</td>\n",
       "      <td>1.000000</td>\n",
       "      <td>6.000000</td>\n",
       "    </tr>\n",
       "    <tr>\n",
       "      <th>60%</th>\n",
       "      <td>243537.400000</td>\n",
       "      <td>2011.000000</td>\n",
       "      <td>1.000000</td>\n",
       "      <td>8.000000</td>\n",
       "    </tr>\n",
       "    <tr>\n",
       "      <th>90%</th>\n",
       "      <td>361341.100000</td>\n",
       "      <td>2018.000000</td>\n",
       "      <td>2.000000</td>\n",
       "      <td>28.000000</td>\n",
       "    </tr>\n",
       "    <tr>\n",
       "      <th>max</th>\n",
       "      <td>401681.000000</td>\n",
       "      <td>2650.000000</td>\n",
       "      <td>40.000000</td>\n",
       "      <td>1765.000000</td>\n",
       "    </tr>\n",
       "  </tbody>\n",
       "</table>\n",
       "</div>"
      ],
      "text/plain": [
       "                  번호           발행년도           도서권수           대출건수\n",
       "count  376770.000000  376770.000000  376770.000000  376770.000000\n",
       "mean   202977.476649    2008.460076       1.145540      11.593439\n",
       "std    115298.245784       8.773148       0.473853      19.279409\n",
       "min         1.000000    1947.000000       1.000000       0.000000\n",
       "30%    124649.700000    2004.000000       1.000000       2.000000\n",
       "50%    204550.500000    2009.000000       1.000000       6.000000\n",
       "60%    243537.400000    2011.000000       1.000000       8.000000\n",
       "90%    361341.100000    2018.000000       2.000000      28.000000\n",
       "max    401681.000000    2650.000000      40.000000    1765.000000"
      ]
     },
     "execution_count": 6,
     "metadata": {},
     "output_type": "execute_result"
    }
   ],
   "source": [
    "ns_book7.describe(percentiles=[0.3, 0.6, 0.9])"
   ]
  },
  {
   "cell_type": "code",
   "execution_count": 7,
   "id": "9b84ae82",
   "metadata": {},
   "outputs": [
    {
     "data": {
      "text/html": [
       "<div>\n",
       "<style scoped>\n",
       "    .dataframe tbody tr th:only-of-type {\n",
       "        vertical-align: middle;\n",
       "    }\n",
       "\n",
       "    .dataframe tbody tr th {\n",
       "        vertical-align: top;\n",
       "    }\n",
       "\n",
       "    .dataframe thead th {\n",
       "        text-align: right;\n",
       "    }\n",
       "</style>\n",
       "<table border=\"1\" class=\"dataframe\">\n",
       "  <thead>\n",
       "    <tr style=\"text-align: right;\">\n",
       "      <th></th>\n",
       "      <th>도서명</th>\n",
       "      <th>저자</th>\n",
       "      <th>출판사</th>\n",
       "      <th>ISBN</th>\n",
       "      <th>세트 ISBN</th>\n",
       "      <th>부가기호</th>\n",
       "      <th>권</th>\n",
       "      <th>주제분류번호</th>\n",
       "      <th>등록일자</th>\n",
       "    </tr>\n",
       "  </thead>\n",
       "  <tbody>\n",
       "    <tr>\n",
       "      <th>count</th>\n",
       "      <td>376770</td>\n",
       "      <td>376770</td>\n",
       "      <td>376770</td>\n",
       "      <td>376770</td>\n",
       "      <td>55866</td>\n",
       "      <td>308252</td>\n",
       "      <td>61793</td>\n",
       "      <td>359792</td>\n",
       "      <td>376770</td>\n",
       "    </tr>\n",
       "    <tr>\n",
       "      <th>unique</th>\n",
       "      <td>336408</td>\n",
       "      <td>248850</td>\n",
       "      <td>21875</td>\n",
       "      <td>350810</td>\n",
       "      <td>14875</td>\n",
       "      <td>17</td>\n",
       "      <td>834</td>\n",
       "      <td>12467</td>\n",
       "      <td>4562</td>\n",
       "    </tr>\n",
       "    <tr>\n",
       "      <th>top</th>\n",
       "      <td>승정원일기</td>\n",
       "      <td>세종대왕기념사업회 [편]</td>\n",
       "      <td>문학동네</td>\n",
       "      <td>9788937430299</td>\n",
       "      <td>9788937460005</td>\n",
       "      <td>0</td>\n",
       "      <td>1</td>\n",
       "      <td>813.6</td>\n",
       "      <td>1970-01-01</td>\n",
       "    </tr>\n",
       "    <tr>\n",
       "      <th>freq</th>\n",
       "      <td>250</td>\n",
       "      <td>303</td>\n",
       "      <td>4410</td>\n",
       "      <td>206</td>\n",
       "      <td>702</td>\n",
       "      <td>158235</td>\n",
       "      <td>13282</td>\n",
       "      <td>14816</td>\n",
       "      <td>28185</td>\n",
       "    </tr>\n",
       "  </tbody>\n",
       "</table>\n",
       "</div>"
      ],
      "text/plain": [
       "           도서명             저자     출판사           ISBN        세트 ISBN    부가기호  \\\n",
       "count   376770         376770  376770         376770          55866  308252   \n",
       "unique  336408         248850   21875         350810          14875      17   \n",
       "top      승정원일기  세종대왕기념사업회 [편]    문학동네  9788937430299  9788937460005       0   \n",
       "freq       250            303    4410            206            702  158235   \n",
       "\n",
       "            권  주제분류번호        등록일자  \n",
       "count   61793  359792      376770  \n",
       "unique    834   12467        4562  \n",
       "top         1   813.6  1970-01-01  \n",
       "freq    13282   14816       28185  "
      ]
     },
     "execution_count": 7,
     "metadata": {},
     "output_type": "execute_result"
    }
   ],
   "source": [
    "ns_book7.describe(include='object')"
   ]
  },
  {
   "cell_type": "markdown",
   "id": "0cc5aab1",
   "metadata": {},
   "source": [
    "## 평균"
   ]
  },
  {
   "cell_type": "markdown",
   "id": "545fe9ac",
   "metadata": {},
   "source": [
    "$평균 = \\dfrac{a + b + c}{3}$\n",
    "\n",
    "$평균 = \\dfrac{x_1 + x_2 + x_3}{3}$"
   ]
  },
  {
   "cell_type": "code",
   "execution_count": 8,
   "id": "d6b0b6df",
   "metadata": {},
   "outputs": [
    {
     "name": "stdout",
     "output_type": "stream",
     "text": [
      "평균: 20.0\n"
     ]
    }
   ],
   "source": [
    "x = [10, 20, 30]\n",
    "sum = 0\n",
    "for i in range(3):\n",
    "    sum += x[i]\n",
    "print(\"평균:\", sum / len(x))"
   ]
  },
  {
   "cell_type": "markdown",
   "id": "f177af39",
   "metadata": {},
   "source": [
    "$평균 = \\dfrac{x_1 + x_2 + x_3}{3} = \\dfrac{\\sum_{i=1}^{3} x_i}{3}$\n",
    "\n",
    "$평균 대출건수 = \\dfrac{\\sum_{i=1}^{376770} x_i}{376770}$"
   ]
  },
  {
   "cell_type": "code",
   "execution_count": 9,
   "id": "158b5986",
   "metadata": {},
   "outputs": [
    {
     "data": {
      "text/plain": [
       "11.593438968070707"
      ]
     },
     "execution_count": 9,
     "metadata": {},
     "output_type": "execute_result"
    }
   ],
   "source": [
    "ns_book7['대출건수'].mean()"
   ]
  },
  {
   "cell_type": "markdown",
   "id": "cf1edb20",
   "metadata": {},
   "source": [
    "## 중앙값"
   ]
  },
  {
   "cell_type": "code",
   "execution_count": 10,
   "id": "97c4debc",
   "metadata": {},
   "outputs": [
    {
     "data": {
      "text/plain": [
       "6.0"
      ]
     },
     "execution_count": 10,
     "metadata": {},
     "output_type": "execute_result"
    }
   ],
   "source": [
    "ns_book7['대출건수'].median()"
   ]
  },
  {
   "cell_type": "code",
   "execution_count": 11,
   "id": "9bab8059",
   "metadata": {},
   "outputs": [
    {
     "data": {
      "text/plain": [
       "0    2.5\n",
       "dtype: float64"
      ]
     },
     "execution_count": 11,
     "metadata": {},
     "output_type": "execute_result"
    }
   ],
   "source": [
    "temp_df = pd.DataFrame([1,2,3,4])\n",
    "temp_df.median()"
   ]
  },
  {
   "cell_type": "code",
   "execution_count": 12,
   "id": "5edb6475",
   "metadata": {},
   "outputs": [
    {
     "data": {
      "text/plain": [
       "183.0"
      ]
     },
     "execution_count": 12,
     "metadata": {},
     "output_type": "execute_result"
    }
   ],
   "source": [
    "ns_book7['대출건수'].drop_duplicates().median()"
   ]
  },
  {
   "cell_type": "markdown",
   "id": "4b2519d7",
   "metadata": {},
   "source": [
    "## 최솟값, 최댓값"
   ]
  },
  {
   "cell_type": "code",
   "execution_count": 13,
   "id": "f3c6165f",
   "metadata": {},
   "outputs": [
    {
     "data": {
      "text/plain": [
       "0"
      ]
     },
     "execution_count": 13,
     "metadata": {},
     "output_type": "execute_result"
    }
   ],
   "source": [
    "ns_book7['대출건수'].min()"
   ]
  },
  {
   "cell_type": "code",
   "execution_count": 14,
   "id": "93c8c740",
   "metadata": {},
   "outputs": [
    {
     "data": {
      "text/plain": [
       "1765"
      ]
     },
     "execution_count": 14,
     "metadata": {},
     "output_type": "execute_result"
    }
   ],
   "source": [
    "ns_book7['대출건수'].max()"
   ]
  },
  {
   "cell_type": "markdown",
   "id": "612914f1",
   "metadata": {},
   "source": [
    "## 분위수"
   ]
  },
  {
   "cell_type": "code",
   "execution_count": 15,
   "id": "e2826339",
   "metadata": {},
   "outputs": [
    {
     "data": {
      "text/plain": [
       "2.0"
      ]
     },
     "execution_count": 15,
     "metadata": {},
     "output_type": "execute_result"
    }
   ],
   "source": [
    "ns_book6['대출건수'].quantile(0.25)"
   ]
  },
  {
   "cell_type": "code",
   "execution_count": 16,
   "id": "4aa73f32",
   "metadata": {},
   "outputs": [
    {
     "data": {
      "text/plain": [
       "0.25     2.0\n",
       "0.50     6.0\n",
       "0.75    14.0\n",
       "Name: 대출건수, dtype: float64"
      ]
     },
     "execution_count": 16,
     "metadata": {},
     "output_type": "execute_result"
    }
   ],
   "source": [
    "ns_book6['대출건수'].quantile([0.25,0.5,0.75])"
   ]
  },
  {
   "cell_type": "code",
   "execution_count": 17,
   "id": "cfa1a9c0",
   "metadata": {},
   "outputs": [
    {
     "data": {
      "text/plain": [
       "4.6"
      ]
     },
     "execution_count": 17,
     "metadata": {},
     "output_type": "execute_result"
    }
   ],
   "source": [
    "pd.Series([1,2,3,4,5]).quantile(0.9)"
   ]
  },
  {
   "cell_type": "code",
   "execution_count": 18,
   "id": "c5834799",
   "metadata": {},
   "outputs": [
    {
     "data": {
      "text/plain": [
       "4.6"
      ]
     },
     "execution_count": 18,
     "metadata": {},
     "output_type": "execute_result"
    }
   ],
   "source": [
    "4 + (0.9-0.75)*(5-4)/(1.0-0.75)"
   ]
  },
  {
   "cell_type": "code",
   "execution_count": 19,
   "id": "f96f7126",
   "metadata": {},
   "outputs": [
    {
     "data": {
      "text/plain": [
       "4.5"
      ]
     },
     "execution_count": 19,
     "metadata": {},
     "output_type": "execute_result"
    }
   ],
   "source": [
    "pd.Series([1,2,3,4,5]).quantile(0.9, interpolation='midpoint')"
   ]
  },
  {
   "cell_type": "code",
   "execution_count": 20,
   "id": "2f226c34",
   "metadata": {},
   "outputs": [
    {
     "data": {
      "text/plain": [
       "5"
      ]
     },
     "execution_count": 20,
     "metadata": {},
     "output_type": "execute_result"
    }
   ],
   "source": [
    "pd.Series([1,2,3,4,5]).quantile(0.9, interpolation='nearest')"
   ]
  },
  {
   "cell_type": "code",
   "execution_count": 21,
   "id": "ac67b21c",
   "metadata": {},
   "outputs": [],
   "source": [
    "borrow_10_flag = ns_book7['대출건수'] < 10"
   ]
  },
  {
   "cell_type": "code",
   "execution_count": 22,
   "id": "0c08b1d3",
   "metadata": {},
   "outputs": [
    {
     "data": {
      "text/plain": [
       "0.6402712530190833"
      ]
     },
     "execution_count": 22,
     "metadata": {},
     "output_type": "execute_result"
    }
   ],
   "source": [
    "borrow_10_flag.mean()"
   ]
  },
  {
   "cell_type": "code",
   "execution_count": 23,
   "id": "d35dd69e",
   "metadata": {},
   "outputs": [
    {
     "data": {
      "text/plain": [
       "10.0"
      ]
     },
     "execution_count": 23,
     "metadata": {},
     "output_type": "execute_result"
    }
   ],
   "source": [
    "ns_book7['대출건수'].quantile(0.65)"
   ]
  },
  {
   "cell_type": "markdown",
   "id": "c97f4390",
   "metadata": {},
   "source": [
    "## 분산"
   ]
  },
  {
   "cell_type": "markdown",
   "id": "112c1414",
   "metadata": {},
   "source": [
    "$ s^2 = \\dfrac{\\sum_{i=1}^{n}(x_i - \\bar{x})^2}{n}$\n",
    "\n",
    "$ \\bar{x} = \\dfrac{\\sum_{i=1}^n x_i}{n}$"
   ]
  },
  {
   "cell_type": "code",
   "execution_count": 24,
   "id": "5126703e",
   "metadata": {},
   "outputs": [
    {
     "data": {
      "text/plain": [
       "371.69563042906674"
      ]
     },
     "execution_count": 24,
     "metadata": {},
     "output_type": "execute_result"
    }
   ],
   "source": [
    "ns_book7['대출건수'].var()"
   ]
  },
  {
   "cell_type": "markdown",
   "id": "f044841d",
   "metadata": {},
   "source": [
    "## 표준 편차"
   ]
  },
  {
   "cell_type": "markdown",
   "id": "0344a344",
   "metadata": {},
   "source": [
    "$ s = \\sqrt{\\dfrac{\\sum_{i=1}^{n}(x_i - \\bar{x})^2}{n}}$"
   ]
  },
  {
   "cell_type": "code",
   "execution_count": 25,
   "id": "a9255feb",
   "metadata": {},
   "outputs": [
    {
     "data": {
      "text/plain": [
       "19.279409493785508"
      ]
     },
     "execution_count": 25,
     "metadata": {},
     "output_type": "execute_result"
    }
   ],
   "source": [
    "ns_book7['대출건수'].std()"
   ]
  },
  {
   "cell_type": "markdown",
   "id": "3e758e84",
   "metadata": {},
   "source": [
    "$\\sqrt{4}=2$"
   ]
  },
  {
   "cell_type": "code",
   "execution_count": 26,
   "id": "8484e2ec",
   "metadata": {},
   "outputs": [
    {
     "data": {
      "text/plain": [
       "19.279409493785508"
      ]
     },
     "execution_count": 26,
     "metadata": {},
     "output_type": "execute_result"
    }
   ],
   "source": [
    "import numpy as np\n",
    "\n",
    "diff = ns_book7['대출건수'] - ns_book7['대출건수'].mean()\n",
    "\n",
    "np.sqrt( np.sum(diff**2) / (len(ns_book7)-1) )"
   ]
  },
  {
   "cell_type": "markdown",
   "id": "40e1d0d8",
   "metadata": {},
   "source": [
    "## 최빈값"
   ]
  },
  {
   "cell_type": "code",
   "execution_count": 27,
   "id": "3dbb221c",
   "metadata": {},
   "outputs": [
    {
     "data": {
      "text/plain": [
       "0    승정원일기\n",
       "dtype: object"
      ]
     },
     "execution_count": 27,
     "metadata": {},
     "output_type": "execute_result"
    }
   ],
   "source": [
    "ns_book7['도서명'].mode()"
   ]
  },
  {
   "cell_type": "code",
   "execution_count": 28,
   "id": "995e739c",
   "metadata": {
    "scrolled": true
   },
   "outputs": [
    {
     "data": {
      "text/plain": [
       "0    2012.0\n",
       "dtype: float64"
      ]
     },
     "execution_count": 28,
     "metadata": {},
     "output_type": "execute_result"
    }
   ],
   "source": [
    "ns_book7['발행년도'].mode()"
   ]
  },
  {
   "cell_type": "markdown",
   "id": "dc59d7f3",
   "metadata": {},
   "source": [
    "## 데이터프레임에서 기술통계 구하기"
   ]
  },
  {
   "cell_type": "code",
   "execution_count": 29,
   "id": "ec51db89",
   "metadata": {},
   "outputs": [
    {
     "data": {
      "text/plain": [
       "번호      202977.476649\n",
       "발행년도      2008.460076\n",
       "도서권수         1.145540\n",
       "대출건수        11.593439\n",
       "dtype: float64"
      ]
     },
     "execution_count": 29,
     "metadata": {},
     "output_type": "execute_result"
    }
   ],
   "source": [
    "ns_book7.mean(numeric_only=True)"
   ]
  },
  {
   "cell_type": "code",
   "execution_count": 30,
   "id": "9d4ee668",
   "metadata": {
    "scrolled": true
   },
   "outputs": [
    {
     "data": {
      "text/html": [
       "<div>\n",
       "<style scoped>\n",
       "    .dataframe tbody tr th:only-of-type {\n",
       "        vertical-align: middle;\n",
       "    }\n",
       "\n",
       "    .dataframe tbody tr th {\n",
       "        vertical-align: top;\n",
       "    }\n",
       "\n",
       "    .dataframe thead th {\n",
       "        text-align: right;\n",
       "    }\n",
       "</style>\n",
       "<table border=\"1\" class=\"dataframe\">\n",
       "  <thead>\n",
       "    <tr style=\"text-align: right;\">\n",
       "      <th></th>\n",
       "      <th>도서명</th>\n",
       "      <th>저자</th>\n",
       "      <th>출판사</th>\n",
       "      <th>발행년도</th>\n",
       "      <th>ISBN</th>\n",
       "      <th>세트 ISBN</th>\n",
       "      <th>부가기호</th>\n",
       "      <th>권</th>\n",
       "      <th>주제분류번호</th>\n",
       "      <th>도서권수</th>\n",
       "      <th>대출건수</th>\n",
       "      <th>등록일자</th>\n",
       "    </tr>\n",
       "  </thead>\n",
       "  <tbody>\n",
       "    <tr>\n",
       "      <th>0</th>\n",
       "      <td>승정원일기</td>\n",
       "      <td>세종대왕기념사업회 [편]</td>\n",
       "      <td>문학동네</td>\n",
       "      <td>2012.0</td>\n",
       "      <td>9788937430299</td>\n",
       "      <td>9788937460005</td>\n",
       "      <td>0</td>\n",
       "      <td>1</td>\n",
       "      <td>813.6</td>\n",
       "      <td>1</td>\n",
       "      <td>0</td>\n",
       "      <td>1970-01-01</td>\n",
       "    </tr>\n",
       "  </tbody>\n",
       "</table>\n",
       "</div>"
      ],
      "text/plain": [
       "     도서명             저자   출판사    발행년도           ISBN        세트 ISBN 부가기호  권  \\\n",
       "0  승정원일기  세종대왕기념사업회 [편]  문학동네  2012.0  9788937430299  9788937460005    0  1   \n",
       "\n",
       "  주제분류번호  도서권수  대출건수        등록일자  \n",
       "0  813.6     1     0  1970-01-01  "
      ]
     },
     "execution_count": 30,
     "metadata": {},
     "output_type": "execute_result"
    }
   ],
   "source": [
    "ns_book7.loc[:, '도서명':].mode()"
   ]
  },
  {
   "cell_type": "code",
   "execution_count": 31,
   "id": "a9ccbdd1",
   "metadata": {},
   "outputs": [],
   "source": [
    "ns_book7.to_csv('ns_book7.csv', index=False)"
   ]
  },
  {
   "cell_type": "markdown",
   "id": "f6114d2e",
   "metadata": {},
   "source": [
    "## 넘파이의 기술통계 함수"
   ]
  },
  {
   "cell_type": "markdown",
   "id": "c8b788d8",
   "metadata": {},
   "source": [
    "### 평균 구하기"
   ]
  },
  {
   "cell_type": "code",
   "execution_count": 32,
   "id": "259df238",
   "metadata": {},
   "outputs": [
    {
     "data": {
      "text/plain": [
       "11.593438968070707"
      ]
     },
     "execution_count": 32,
     "metadata": {},
     "output_type": "execute_result"
    }
   ],
   "source": [
    "import numpy as np\n",
    "\n",
    "np.mean(ns_book7['대출건수'])"
   ]
  },
  {
   "cell_type": "markdown",
   "id": "82696777",
   "metadata": {},
   "source": [
    "$\\dfrac{국어점수 \\times 2 + 수학점수}{3}$\n",
    "\n",
    "$\\dfrac{국어점수 \\times 국어가중치 + 수학점수 \\times 수학가중치}{국어가중치 + 수학가중치}$ \n",
    "\n",
    "$가중평균 = \\dfrac{x_1 \\times w_1 + x_2 \\times w_2}{w_1 + w_2} = \\dfrac{\\sum_{i=1}^{2} x_i \\times w_i}{\\sum_{i=1}^{2} w_i}$"
   ]
  },
  {
   "cell_type": "code",
   "execution_count": 33,
   "id": "1c7f005c",
   "metadata": {
    "scrolled": true
   },
   "outputs": [
    {
     "data": {
      "text/plain": [
       "10.543612175385386"
      ]
     },
     "execution_count": 33,
     "metadata": {},
     "output_type": "execute_result"
    }
   ],
   "source": [
    "np.average(ns_book7['대출건수'], weights=1/ns_book7['도서권수'])"
   ]
  },
  {
   "cell_type": "code",
   "execution_count": 34,
   "id": "e3f6a7b6",
   "metadata": {},
   "outputs": [
    {
     "data": {
      "text/plain": [
       "9.873029861445774"
      ]
     },
     "execution_count": 34,
     "metadata": {},
     "output_type": "execute_result"
    }
   ],
   "source": [
    "np.mean(ns_book7['대출건수']/ns_book7['도서권수'])"
   ]
  },
  {
   "cell_type": "code",
   "execution_count": 35,
   "id": "20f9a992",
   "metadata": {
    "scrolled": true
   },
   "outputs": [
    {
     "data": {
      "text/plain": [
       "10.120503701300958"
      ]
     },
     "execution_count": 35,
     "metadata": {},
     "output_type": "execute_result"
    }
   ],
   "source": [
    "ns_book7['대출건수'].sum()/ns_book7['도서권수'].sum()"
   ]
  },
  {
   "cell_type": "markdown",
   "id": "13b3a1e5",
   "metadata": {},
   "source": [
    "### 중앙값 구하기"
   ]
  },
  {
   "cell_type": "code",
   "execution_count": 36,
   "id": "3f627653",
   "metadata": {},
   "outputs": [
    {
     "data": {
      "text/plain": [
       "6.0"
      ]
     },
     "execution_count": 36,
     "metadata": {},
     "output_type": "execute_result"
    }
   ],
   "source": [
    "np.median(ns_book7['대출건수'])"
   ]
  },
  {
   "cell_type": "markdown",
   "id": "ebf031cb",
   "metadata": {},
   "source": [
    "### 최솟값, 최댓값 구하기"
   ]
  },
  {
   "cell_type": "code",
   "execution_count": 37,
   "id": "f61e54a7",
   "metadata": {},
   "outputs": [
    {
     "data": {
      "text/plain": [
       "0"
      ]
     },
     "execution_count": 37,
     "metadata": {},
     "output_type": "execute_result"
    }
   ],
   "source": [
    "np.min(ns_book7['대출건수'])"
   ]
  },
  {
   "cell_type": "code",
   "execution_count": 38,
   "id": "730fe473",
   "metadata": {},
   "outputs": [
    {
     "data": {
      "text/plain": [
       "1765"
      ]
     },
     "execution_count": 38,
     "metadata": {},
     "output_type": "execute_result"
    }
   ],
   "source": [
    "np.max(ns_book7['대출건수'])"
   ]
  },
  {
   "cell_type": "markdown",
   "id": "91d5cb75",
   "metadata": {},
   "source": [
    "### 분위수 구하기"
   ]
  },
  {
   "cell_type": "code",
   "execution_count": 39,
   "id": "34a541ed",
   "metadata": {},
   "outputs": [
    {
     "data": {
      "text/plain": [
       "array([ 2.,  6., 14.])"
      ]
     },
     "execution_count": 39,
     "metadata": {},
     "output_type": "execute_result"
    }
   ],
   "source": [
    "# interpolation 매개변수가 numpy 1.22(python >= 3.8) 버전부터 method로 바뀜\n",
    "np.quantile(ns_book7['대출건수'], [0.25,0.5,0.75])"
   ]
  },
  {
   "cell_type": "markdown",
   "id": "3da83285",
   "metadata": {},
   "source": [
    "### 분산 구하기"
   ]
  },
  {
   "cell_type": "code",
   "execution_count": 40,
   "id": "9be4057a",
   "metadata": {},
   "outputs": [
    {
     "data": {
      "text/plain": [
       "371.6946438971496"
      ]
     },
     "execution_count": 40,
     "metadata": {},
     "output_type": "execute_result"
    }
   ],
   "source": [
    "np.var(ns_book7['대출건수'])"
   ]
  },
  {
   "cell_type": "markdown",
   "id": "e320c311",
   "metadata": {},
   "source": [
    "$ s^2 = \\dfrac{\\sum_{i=1}^{n}(x_i - \\bar{x})^2}{n - 1}$"
   ]
  },
  {
   "cell_type": "code",
   "execution_count": 41,
   "id": "0e1d74a0",
   "metadata": {},
   "outputs": [
    {
     "data": {
      "text/plain": [
       "371.6946438971496"
      ]
     },
     "execution_count": 41,
     "metadata": {},
     "output_type": "execute_result"
    }
   ],
   "source": [
    "ns_book7['대출건수'].var(ddof=0)"
   ]
  },
  {
   "cell_type": "code",
   "execution_count": 42,
   "id": "92a68ee5",
   "metadata": {},
   "outputs": [
    {
     "data": {
      "text/plain": [
       "371.69563042906674"
      ]
     },
     "execution_count": 42,
     "metadata": {},
     "output_type": "execute_result"
    }
   ],
   "source": [
    "np.var(ns_book7['대출건수'], ddof=1)"
   ]
  },
  {
   "cell_type": "markdown",
   "id": "a50c7032",
   "metadata": {},
   "source": [
    "### 표준 편차 구하기"
   ]
  },
  {
   "cell_type": "code",
   "execution_count": 43,
   "id": "7ecdabaa",
   "metadata": {},
   "outputs": [
    {
     "data": {
      "text/plain": [
       "19.27938390865096"
      ]
     },
     "execution_count": 43,
     "metadata": {},
     "output_type": "execute_result"
    }
   ],
   "source": [
    "np.std(ns_book7['대출건수'])"
   ]
  },
  {
   "cell_type": "markdown",
   "id": "eb01e4a1",
   "metadata": {},
   "source": [
    "### 최빈값 구하기"
   ]
  },
  {
   "cell_type": "code",
   "execution_count": 44,
   "id": "d709a1bf",
   "metadata": {},
   "outputs": [
    {
     "data": {
      "text/plain": [
       "'승정원일기'"
      ]
     },
     "execution_count": 44,
     "metadata": {},
     "output_type": "execute_result"
    }
   ],
   "source": [
    "values, counts = np.unique(ns_book7['도서명'], return_counts=True)\n",
    "max_idx = np.argmax(counts)\n",
    "values[max_idx]"
   ]
  },
  {
   "cell_type": "markdown",
   "id": "abd90117",
   "metadata": {},
   "source": [
    "## 확인문제"
   ]
  },
  {
   "cell_type": "markdown",
   "id": "0842d73e",
   "metadata": {},
   "source": [
    "#### 4."
   ]
  },
  {
   "cell_type": "code",
   "execution_count": 45,
   "id": "edde0726",
   "metadata": {},
   "outputs": [
    {
     "data": {
      "text/html": [
       "<div>\n",
       "<style scoped>\n",
       "    .dataframe tbody tr th:only-of-type {\n",
       "        vertical-align: middle;\n",
       "    }\n",
       "\n",
       "    .dataframe tbody tr th {\n",
       "        vertical-align: top;\n",
       "    }\n",
       "\n",
       "    .dataframe thead th {\n",
       "        text-align: right;\n",
       "    }\n",
       "</style>\n",
       "<table border=\"1\" class=\"dataframe\">\n",
       "  <thead>\n",
       "    <tr style=\"text-align: right;\">\n",
       "      <th></th>\n",
       "      <th>대출건수</th>\n",
       "    </tr>\n",
       "    <tr>\n",
       "      <th>출판사</th>\n",
       "      <th></th>\n",
       "    </tr>\n",
       "  </thead>\n",
       "  <tbody>\n",
       "    <tr>\n",
       "      <th>동녁라이프</th>\n",
       "      <td>224.000000</td>\n",
       "    </tr>\n",
       "    <tr>\n",
       "      <th>와이비엠시사</th>\n",
       "      <td>215.000000</td>\n",
       "    </tr>\n",
       "    <tr>\n",
       "      <th>환상</th>\n",
       "      <td>210.000000</td>\n",
       "    </tr>\n",
       "    <tr>\n",
       "      <th>두앤비컨텐츠(랜덤하우스중앙)</th>\n",
       "      <td>167.000000</td>\n",
       "    </tr>\n",
       "    <tr>\n",
       "      <th>개미들출판사-에셀문화사</th>\n",
       "      <td>157.000000</td>\n",
       "    </tr>\n",
       "    <tr>\n",
       "      <th>해커스 어학 연구소</th>\n",
       "      <td>149.500000</td>\n",
       "    </tr>\n",
       "    <tr>\n",
       "      <th>Test clinic</th>\n",
       "      <td>137.000000</td>\n",
       "    </tr>\n",
       "    <tr>\n",
       "      <th>마야출판사</th>\n",
       "      <td>133.333333</td>\n",
       "    </tr>\n",
       "    <tr>\n",
       "      <th>해밀 &amp; Co.</th>\n",
       "      <td>133.000000</td>\n",
       "    </tr>\n",
       "    <tr>\n",
       "      <th>마그나(Magna)</th>\n",
       "      <td>130.000000</td>\n",
       "    </tr>\n",
       "  </tbody>\n",
       "</table>\n",
       "</div>"
      ],
      "text/plain": [
       "                       대출건수\n",
       "출판사                        \n",
       "동녁라이프            224.000000\n",
       "와이비엠시사           215.000000\n",
       "환상               210.000000\n",
       "두앤비컨텐츠(랜덤하우스중앙)  167.000000\n",
       "개미들출판사-에셀문화사     157.000000\n",
       "해커스 어학 연구소       149.500000\n",
       "Test clinic      137.000000\n",
       "마야출판사            133.333333\n",
       "해밀 & Co.         133.000000\n",
       "마그나(Magna)       130.000000"
      ]
     },
     "execution_count": 45,
     "metadata": {},
     "output_type": "execute_result"
    }
   ],
   "source": [
    "ns_book7[['출판사','대출건수']].groupby('출판사').mean().sort_values('대출건수', ascending=False).head(10)"
   ]
  },
  {
   "cell_type": "markdown",
   "id": "b499f3a6",
   "metadata": {},
   "source": [
    "#### 5."
   ]
  },
  {
   "cell_type": "code",
   "execution_count": 46,
   "id": "9d5679f9",
   "metadata": {},
   "outputs": [
    {
     "data": {
      "text/plain": [
       "51.51737134060568"
      ]
     },
     "execution_count": 46,
     "metadata": {},
     "output_type": "execute_result"
    }
   ],
   "source": [
    "target_range = np.array(ns_book7['대출건수'].quantile(q=[0.25,0.75]))\n",
    "target_bool_idx = (ns_book7['대출건수'] >= target_range[0]) & (ns_book7['대출건수'] <= target_range[1])\n",
    "target_bool_idx.sum()/len(ns_book7)*100"
   ]
  }
 ],
 "metadata": {
  "kernelspec": {
   "display_name": "Python 3",
   "language": "python",
   "name": "python3"
  },
  "language_info": {
   "codemirror_mode": {
    "name": "ipython",
    "version": 3
   },
   "file_extension": ".py",
   "mimetype": "text/x-python",
   "name": "python",
   "nbconvert_exporter": "python",
   "pygments_lexer": "ipython3",
   "version": "3.7.3"
  }
 },
 "nbformat": 4,
 "nbformat_minor": 5
}
