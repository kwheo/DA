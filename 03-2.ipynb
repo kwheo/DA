{
 "cells": [
  {
   "cell_type": "markdown",
   "id": "30028106",
   "metadata": {
    "id": "ffd9a67e"
   },
   "source": [
    "# 03-2 잘못된 데이터 수정하기"
   ]
  },
  {
   "cell_type": "markdown",
   "id": "884b4159",
   "metadata": {
    "id": "75ff0197"
   },
   "source": [
    "<table class=\"tfo-notebook-buttons\" align=\"left\">\n",
    "  <td>\n",
    "    <a target=\"_blank\" href=\"https://nbviewer.jupyter.org/github/rickiepark/hg-da/blob/main/03-2.ipynb\"><img src=\"https://jupyter.org/assets/share.png\" width=\"61\" />주피터 노트북 뷰어로 보기</a>\n",
    "  </td>\n",
    "  <td>\n",
    "    <a target=\"_blank\" href=\"https://colab.research.google.com/github/rickiepark/hg-da/blob/main/03-2.ipynb\"><img src=\"https://www.tensorflow.org/images/colab_logo_32px.png\" />구글 코랩(Colab)에서 실행하기</a>\n",
    "  </td>\n",
    "</table>"
   ]
  },
  {
   "cell_type": "markdown",
   "id": "c766c091",
   "metadata": {
    "id": "78f37953"
   },
   "source": [
    "## 데이터프레임 정보 요약 확인하기"
   ]
  },
  {
   "cell_type": "code",
   "execution_count": 1,
   "id": "382bfa69",
   "metadata": {
    "colab": {
     "base_uri": "https://localhost:8080/",
     "height": 107
    },
    "execution": {
     "iopub.execute_input": "2021-09-07T02:39:24.213331Z",
     "iopub.status.busy": "2021-09-07T02:39:24.212962Z",
     "iopub.status.idle": "2021-09-07T02:39:30.983235Z",
     "shell.execute_reply": "2021-09-07T02:39:30.984073Z"
    },
    "id": "b3722e5f",
    "outputId": "7f7d871c-c014-44fc-958b-e5e77da19aea"
   },
   "outputs": [
    {
     "name": "stderr",
     "output_type": "stream",
     "text": [
      "Downloading...\n",
      "From: https://bit.ly/3GisL6J\n",
      "To: /Users/haesun/github/hg-da/ns_book4.csv\n",
      "100%|██████████| 55.5M/55.5M [00:04<00:00, 11.4MB/s]\n"
     ]
    },
    {
     "data": {
      "text/plain": [
       "'ns_book4.csv'"
      ]
     },
     "execution_count": 1,
     "metadata": {},
     "output_type": "execute_result"
    }
   ],
   "source": [
    "import gdown\n",
    "\n",
    "gdown.download('https://bit.ly/3GisL6J', 'ns_book4.csv', quiet=False)"
   ]
  },
  {
   "cell_type": "code",
   "execution_count": 2,
   "id": "814573a0",
   "metadata": {
    "colab": {
     "base_uri": "https://localhost:8080/",
     "height": 354
    },
    "execution": {
     "iopub.execute_input": "2021-09-07T02:39:30.989521Z",
     "iopub.status.busy": "2021-09-07T02:39:30.988878Z",
     "iopub.status.idle": "2021-09-07T02:39:32.289862Z",
     "shell.execute_reply": "2021-09-07T02:39:32.289150Z"
    },
    "id": "e0551419",
    "outputId": "ef4355ca-1e8e-4134-be2f-28f2c5f4ed58",
    "scrolled": false
   },
   "outputs": [
    {
     "data": {
      "text/html": [
       "<div>\n",
       "<style scoped>\n",
       "    .dataframe tbody tr th:only-of-type {\n",
       "        vertical-align: middle;\n",
       "    }\n",
       "\n",
       "    .dataframe tbody tr th {\n",
       "        vertical-align: top;\n",
       "    }\n",
       "\n",
       "    .dataframe thead th {\n",
       "        text-align: right;\n",
       "    }\n",
       "</style>\n",
       "<table border=\"1\" class=\"dataframe\">\n",
       "  <thead>\n",
       "    <tr style=\"text-align: right;\">\n",
       "      <th></th>\n",
       "      <th>번호</th>\n",
       "      <th>도서명</th>\n",
       "      <th>저자</th>\n",
       "      <th>출판사</th>\n",
       "      <th>발행년도</th>\n",
       "      <th>ISBN</th>\n",
       "      <th>세트 ISBN</th>\n",
       "      <th>부가기호</th>\n",
       "      <th>권</th>\n",
       "      <th>주제분류번호</th>\n",
       "      <th>도서권수</th>\n",
       "      <th>대출건수</th>\n",
       "      <th>등록일자</th>\n",
       "    </tr>\n",
       "  </thead>\n",
       "  <tbody>\n",
       "    <tr>\n",
       "      <th>0</th>\n",
       "      <td>1</td>\n",
       "      <td>인공지능과 흙</td>\n",
       "      <td>김동훈 지음</td>\n",
       "      <td>민음사</td>\n",
       "      <td>2021</td>\n",
       "      <td>9788937444319</td>\n",
       "      <td>NaN</td>\n",
       "      <td>NaN</td>\n",
       "      <td>NaN</td>\n",
       "      <td>NaN</td>\n",
       "      <td>1</td>\n",
       "      <td>0.0</td>\n",
       "      <td>2021-03-19</td>\n",
       "    </tr>\n",
       "    <tr>\n",
       "      <th>1</th>\n",
       "      <td>2</td>\n",
       "      <td>가짜 행복 권하는 사회</td>\n",
       "      <td>김태형 지음</td>\n",
       "      <td>갈매나무</td>\n",
       "      <td>2021</td>\n",
       "      <td>9791190123969</td>\n",
       "      <td>NaN</td>\n",
       "      <td>NaN</td>\n",
       "      <td>NaN</td>\n",
       "      <td>NaN</td>\n",
       "      <td>1</td>\n",
       "      <td>0.0</td>\n",
       "      <td>2021-03-19</td>\n",
       "    </tr>\n",
       "    <tr>\n",
       "      <th>2</th>\n",
       "      <td>3</td>\n",
       "      <td>나도 한 문장 잘 쓰면 바랄 게 없겠네</td>\n",
       "      <td>김선영 지음</td>\n",
       "      <td>블랙피쉬</td>\n",
       "      <td>2021</td>\n",
       "      <td>9788968332982</td>\n",
       "      <td>NaN</td>\n",
       "      <td>NaN</td>\n",
       "      <td>NaN</td>\n",
       "      <td>NaN</td>\n",
       "      <td>1</td>\n",
       "      <td>0.0</td>\n",
       "      <td>2021-03-19</td>\n",
       "    </tr>\n",
       "    <tr>\n",
       "      <th>3</th>\n",
       "      <td>4</td>\n",
       "      <td>예루살렘 해변</td>\n",
       "      <td>이도 게펜 지음, 임재희 옮김</td>\n",
       "      <td>문학세계사</td>\n",
       "      <td>2021</td>\n",
       "      <td>9788970759906</td>\n",
       "      <td>NaN</td>\n",
       "      <td>NaN</td>\n",
       "      <td>NaN</td>\n",
       "      <td>NaN</td>\n",
       "      <td>1</td>\n",
       "      <td>0.0</td>\n",
       "      <td>2021-03-19</td>\n",
       "    </tr>\n",
       "    <tr>\n",
       "      <th>4</th>\n",
       "      <td>5</td>\n",
       "      <td>김성곤의 중국한시기행 : 장강·황하 편</td>\n",
       "      <td>김성곤 지음</td>\n",
       "      <td>김영사</td>\n",
       "      <td>2021</td>\n",
       "      <td>9788934990833</td>\n",
       "      <td>NaN</td>\n",
       "      <td>NaN</td>\n",
       "      <td>NaN</td>\n",
       "      <td>NaN</td>\n",
       "      <td>1</td>\n",
       "      <td>0.0</td>\n",
       "      <td>2021-03-19</td>\n",
       "    </tr>\n",
       "  </tbody>\n",
       "</table>\n",
       "</div>"
      ],
      "text/plain": [
       "   번호                    도서명                저자    출판사  발행년도           ISBN  \\\n",
       "0   1                인공지능과 흙            김동훈 지음    민음사  2021  9788937444319   \n",
       "1   2           가짜 행복 권하는 사회            김태형 지음   갈매나무  2021  9791190123969   \n",
       "2   3  나도 한 문장 잘 쓰면 바랄 게 없겠네            김선영 지음   블랙피쉬  2021  9788968332982   \n",
       "3   4                예루살렘 해변  이도 게펜 지음, 임재희 옮김  문학세계사  2021  9788970759906   \n",
       "4   5  김성곤의 중국한시기행 : 장강·황하 편            김성곤 지음    김영사  2021  9788934990833   \n",
       "\n",
       "  세트 ISBN 부가기호    권 주제분류번호  도서권수  대출건수        등록일자  \n",
       "0     NaN  NaN  NaN    NaN     1   0.0  2021-03-19  \n",
       "1     NaN  NaN  NaN    NaN     1   0.0  2021-03-19  \n",
       "2     NaN  NaN  NaN    NaN     1   0.0  2021-03-19  \n",
       "3     NaN  NaN  NaN    NaN     1   0.0  2021-03-19  \n",
       "4     NaN  NaN  NaN    NaN     1   0.0  2021-03-19  "
      ]
     },
     "execution_count": 2,
     "metadata": {},
     "output_type": "execute_result"
    }
   ],
   "source": [
    "import pandas as pd\n",
    "\n",
    "ns_book4 = pd.read_csv('ns_book4.csv', low_memory=False)\n",
    "ns_book4.head()"
   ]
  },
  {
   "cell_type": "code",
   "execution_count": 3,
   "id": "ba1c21de",
   "metadata": {
    "colab": {
     "base_uri": "https://localhost:8080/"
    },
    "execution": {
     "iopub.execute_input": "2021-09-07T02:39:32.294761Z",
     "iopub.status.busy": "2021-09-07T02:39:32.293906Z",
     "iopub.status.idle": "2021-09-07T02:39:32.427107Z",
     "shell.execute_reply": "2021-09-07T02:39:32.427835Z"
    },
    "id": "add23e7e",
    "outputId": "8fecb249-2b54-4632-cf8b-1220523d8848",
    "scrolled": true
   },
   "outputs": [
    {
     "name": "stdout",
     "output_type": "stream",
     "text": [
      "<class 'pandas.core.frame.DataFrame'>\n",
      "RangeIndex: 384591 entries, 0 to 384590\n",
      "Data columns (total 13 columns):\n",
      " #   Column   Non-Null Count   Dtype  \n",
      "---  ------   --------------   -----  \n",
      " 0   번호       384591 non-null  int64  \n",
      " 1   도서명      384188 non-null  object \n",
      " 2   저자       384393 non-null  object \n",
      " 3   출판사      379950 non-null  object \n",
      " 4   발행년도     384577 non-null  object \n",
      " 5   ISBN     384591 non-null  object \n",
      " 6   세트 ISBN  56576 non-null   object \n",
      " 7   부가기호     310386 non-null  object \n",
      " 8   권        63378 non-null   object \n",
      " 9   주제분류번호   364727 non-null  object \n",
      " 10  도서권수     384591 non-null  int64  \n",
      " 11  대출건수     384591 non-null  float64\n",
      " 12  등록일자     384591 non-null  object \n",
      "dtypes: float64(1), int64(2), object(10)\n",
      "memory usage: 38.1+ MB\n"
     ]
    }
   ],
   "source": [
    "ns_book4.info()"
   ]
  },
  {
   "cell_type": "code",
   "execution_count": 4,
   "id": "cda357e6",
   "metadata": {
    "colab": {
     "base_uri": "https://localhost:8080/"
    },
    "execution": {
     "iopub.execute_input": "2021-09-07T02:39:32.432485Z",
     "iopub.status.busy": "2021-09-07T02:39:32.430620Z",
     "iopub.status.idle": "2021-09-07T02:39:32.930800Z",
     "shell.execute_reply": "2021-09-07T02:39:32.929866Z"
    },
    "id": "434a7f49",
    "outputId": "c1b09ed0-aab9-45b6-afca-93c9b6c6a8fa"
   },
   "outputs": [
    {
     "name": "stdout",
     "output_type": "stream",
     "text": [
      "<class 'pandas.core.frame.DataFrame'>\n",
      "RangeIndex: 384591 entries, 0 to 384590\n",
      "Data columns (total 13 columns):\n",
      " #   Column   Non-Null Count   Dtype  \n",
      "---  ------   --------------   -----  \n",
      " 0   번호       384591 non-null  int64  \n",
      " 1   도서명      384188 non-null  object \n",
      " 2   저자       384393 non-null  object \n",
      " 3   출판사      379950 non-null  object \n",
      " 4   발행년도     384577 non-null  object \n",
      " 5   ISBN     384591 non-null  object \n",
      " 6   세트 ISBN  56576 non-null   object \n",
      " 7   부가기호     310386 non-null  object \n",
      " 8   권        63378 non-null   object \n",
      " 9   주제분류번호   364727 non-null  object \n",
      " 10  도서권수     384591 non-null  int64  \n",
      " 11  대출건수     384591 non-null  float64\n",
      " 12  등록일자     384591 non-null  object \n",
      "dtypes: float64(1), int64(2), object(10)\n",
      "memory usage: 266.2 MB\n"
     ]
    }
   ],
   "source": [
    "ns_book4.info(memory_usage='deep')"
   ]
  },
  {
   "cell_type": "markdown",
   "id": "c0f7357d",
   "metadata": {},
   "source": [
    "## 누락된 값 처리하기"
   ]
  },
  {
   "cell_type": "code",
   "execution_count": 5,
   "id": "850d480b",
   "metadata": {
    "colab": {
     "base_uri": "https://localhost:8080/"
    },
    "execution": {
     "iopub.execute_input": "2021-09-07T02:39:32.935498Z",
     "iopub.status.busy": "2021-09-07T02:39:32.935123Z",
     "iopub.status.idle": "2021-09-07T02:39:33.078149Z",
     "shell.execute_reply": "2021-09-07T02:39:33.078717Z"
    },
    "id": "3b4e5cb3",
    "outputId": "d8a10ad0-81f5-4791-bf5b-c67460aad17d"
   },
   "outputs": [
    {
     "data": {
      "text/plain": [
       "번호              0\n",
       "도서명           403\n",
       "저자            198\n",
       "출판사          4641\n",
       "발행년도           14\n",
       "ISBN            0\n",
       "세트 ISBN    328015\n",
       "부가기호        74205\n",
       "권          321213\n",
       "주제분류번호      19864\n",
       "도서권수            0\n",
       "대출건수            0\n",
       "등록일자            0\n",
       "dtype: int64"
      ]
     },
     "execution_count": 5,
     "metadata": {},
     "output_type": "execute_result"
    }
   ],
   "source": [
    "ns_book4.isna().sum()"
   ]
  },
  {
   "cell_type": "code",
   "execution_count": 6,
   "id": "0229852b",
   "metadata": {
    "colab": {
     "base_uri": "https://localhost:8080/"
    },
    "execution": {
     "iopub.execute_input": "2021-09-07T02:39:33.084003Z",
     "iopub.status.busy": "2021-09-07T02:39:33.083622Z",
     "iopub.status.idle": "2021-09-07T02:39:33.092341Z",
     "shell.execute_reply": "2021-09-07T02:39:33.091461Z"
    },
    "id": "d03cb9ce",
    "outputId": "31e13c00-de5a-4f8c-8af7-b4a7ec808226"
   },
   "outputs": [
    {
     "data": {
      "text/plain": [
       "1"
      ]
     },
     "execution_count": 6,
     "metadata": {},
     "output_type": "execute_result"
    }
   ],
   "source": [
    "ns_book4.loc[0, '도서권수'] = None\n",
    "ns_book4['도서권수'].isna().sum()"
   ]
  },
  {
   "cell_type": "code",
   "execution_count": 7,
   "id": "29b2bc28",
   "metadata": {
    "colab": {
     "base_uri": "https://localhost:8080/",
     "height": 112
    },
    "execution": {
     "iopub.execute_input": "2021-09-07T02:39:33.109181Z",
     "iopub.status.busy": "2021-09-07T02:39:33.108361Z",
     "iopub.status.idle": "2021-09-07T02:39:33.111218Z",
     "shell.execute_reply": "2021-09-07T02:39:33.111891Z"
    },
    "id": "17d9ecb5",
    "outputId": "77ee9f57-87db-44ef-ffd1-95a6fad73ddf"
   },
   "outputs": [
    {
     "data": {
      "text/html": [
       "<div>\n",
       "<style scoped>\n",
       "    .dataframe tbody tr th:only-of-type {\n",
       "        vertical-align: middle;\n",
       "    }\n",
       "\n",
       "    .dataframe tbody tr th {\n",
       "        vertical-align: top;\n",
       "    }\n",
       "\n",
       "    .dataframe thead th {\n",
       "        text-align: right;\n",
       "    }\n",
       "</style>\n",
       "<table border=\"1\" class=\"dataframe\">\n",
       "  <thead>\n",
       "    <tr style=\"text-align: right;\">\n",
       "      <th></th>\n",
       "      <th>번호</th>\n",
       "      <th>도서명</th>\n",
       "      <th>저자</th>\n",
       "      <th>출판사</th>\n",
       "      <th>발행년도</th>\n",
       "      <th>ISBN</th>\n",
       "      <th>세트 ISBN</th>\n",
       "      <th>부가기호</th>\n",
       "      <th>권</th>\n",
       "      <th>주제분류번호</th>\n",
       "      <th>도서권수</th>\n",
       "      <th>대출건수</th>\n",
       "      <th>등록일자</th>\n",
       "    </tr>\n",
       "  </thead>\n",
       "  <tbody>\n",
       "    <tr>\n",
       "      <th>0</th>\n",
       "      <td>1</td>\n",
       "      <td>인공지능과 흙</td>\n",
       "      <td>김동훈 지음</td>\n",
       "      <td>민음사</td>\n",
       "      <td>2021</td>\n",
       "      <td>9788937444319</td>\n",
       "      <td>NaN</td>\n",
       "      <td>NaN</td>\n",
       "      <td>NaN</td>\n",
       "      <td>NaN</td>\n",
       "      <td>NaN</td>\n",
       "      <td>0.0</td>\n",
       "      <td>2021-03-19</td>\n",
       "    </tr>\n",
       "    <tr>\n",
       "      <th>1</th>\n",
       "      <td>2</td>\n",
       "      <td>가짜 행복 권하는 사회</td>\n",
       "      <td>김태형 지음</td>\n",
       "      <td>갈매나무</td>\n",
       "      <td>2021</td>\n",
       "      <td>9791190123969</td>\n",
       "      <td>NaN</td>\n",
       "      <td>NaN</td>\n",
       "      <td>NaN</td>\n",
       "      <td>NaN</td>\n",
       "      <td>1.0</td>\n",
       "      <td>0.0</td>\n",
       "      <td>2021-03-19</td>\n",
       "    </tr>\n",
       "  </tbody>\n",
       "</table>\n",
       "</div>"
      ],
      "text/plain": [
       "   번호           도서명      저자   출판사  발행년도           ISBN 세트 ISBN 부가기호    권  \\\n",
       "0   1       인공지능과 흙  김동훈 지음   민음사  2021  9788937444319     NaN  NaN  NaN   \n",
       "1   2  가짜 행복 권하는 사회  김태형 지음  갈매나무  2021  9791190123969     NaN  NaN  NaN   \n",
       "\n",
       "  주제분류번호  도서권수  대출건수        등록일자  \n",
       "0    NaN   NaN   0.0  2021-03-19  \n",
       "1    NaN   1.0   0.0  2021-03-19  "
      ]
     },
     "execution_count": 7,
     "metadata": {},
     "output_type": "execute_result"
    }
   ],
   "source": [
    "ns_book4.head(2)"
   ]
  },
  {
   "cell_type": "code",
   "execution_count": 8,
   "id": "1534c277",
   "metadata": {
    "colab": {
     "base_uri": "https://localhost:8080/",
     "height": 112
    },
    "execution": {
     "iopub.execute_input": "2021-09-07T02:39:33.116445Z",
     "iopub.status.busy": "2021-09-07T02:39:33.115625Z",
     "iopub.status.idle": "2021-09-07T02:39:33.200426Z",
     "shell.execute_reply": "2021-09-07T02:39:33.201117Z"
    },
    "id": "f1a98807",
    "outputId": "4ca4c2c6-57dd-47dc-c39c-cddb5727ee05"
   },
   "outputs": [
    {
     "data": {
      "text/html": [
       "<div>\n",
       "<style scoped>\n",
       "    .dataframe tbody tr th:only-of-type {\n",
       "        vertical-align: middle;\n",
       "    }\n",
       "\n",
       "    .dataframe tbody tr th {\n",
       "        vertical-align: top;\n",
       "    }\n",
       "\n",
       "    .dataframe thead th {\n",
       "        text-align: right;\n",
       "    }\n",
       "</style>\n",
       "<table border=\"1\" class=\"dataframe\">\n",
       "  <thead>\n",
       "    <tr style=\"text-align: right;\">\n",
       "      <th></th>\n",
       "      <th>번호</th>\n",
       "      <th>도서명</th>\n",
       "      <th>저자</th>\n",
       "      <th>출판사</th>\n",
       "      <th>발행년도</th>\n",
       "      <th>ISBN</th>\n",
       "      <th>세트 ISBN</th>\n",
       "      <th>부가기호</th>\n",
       "      <th>권</th>\n",
       "      <th>주제분류번호</th>\n",
       "      <th>도서권수</th>\n",
       "      <th>대출건수</th>\n",
       "      <th>등록일자</th>\n",
       "    </tr>\n",
       "  </thead>\n",
       "  <tbody>\n",
       "    <tr>\n",
       "      <th>0</th>\n",
       "      <td>1</td>\n",
       "      <td>인공지능과 흙</td>\n",
       "      <td>김동훈 지음</td>\n",
       "      <td>민음사</td>\n",
       "      <td>2021</td>\n",
       "      <td>9788937444319</td>\n",
       "      <td>NaN</td>\n",
       "      <td>NaN</td>\n",
       "      <td>NaN</td>\n",
       "      <td>NaN</td>\n",
       "      <td>1</td>\n",
       "      <td>0</td>\n",
       "      <td>2021-03-19</td>\n",
       "    </tr>\n",
       "    <tr>\n",
       "      <th>1</th>\n",
       "      <td>2</td>\n",
       "      <td>가짜 행복 권하는 사회</td>\n",
       "      <td>김태형 지음</td>\n",
       "      <td>갈매나무</td>\n",
       "      <td>2021</td>\n",
       "      <td>9791190123969</td>\n",
       "      <td>NaN</td>\n",
       "      <td>NaN</td>\n",
       "      <td>NaN</td>\n",
       "      <td>NaN</td>\n",
       "      <td>1</td>\n",
       "      <td>0</td>\n",
       "      <td>2021-03-19</td>\n",
       "    </tr>\n",
       "  </tbody>\n",
       "</table>\n",
       "</div>"
      ],
      "text/plain": [
       "   번호           도서명      저자   출판사  발행년도           ISBN 세트 ISBN 부가기호    권  \\\n",
       "0   1       인공지능과 흙  김동훈 지음   민음사  2021  9788937444319     NaN  NaN  NaN   \n",
       "1   2  가짜 행복 권하는 사회  김태형 지음  갈매나무  2021  9791190123969     NaN  NaN  NaN   \n",
       "\n",
       "  주제분류번호  도서권수  대출건수        등록일자  \n",
       "0    NaN     1     0  2021-03-19  \n",
       "1    NaN     1     0  2021-03-19  "
      ]
     },
     "execution_count": 8,
     "metadata": {},
     "output_type": "execute_result"
    }
   ],
   "source": [
    "ns_book4.loc[0, '도서권수'] = 1\n",
    "ns_book4 = ns_book4.astype({'도서권수':'int32', '대출건수': 'int32'})\n",
    "ns_book4.head(2)"
   ]
  },
  {
   "cell_type": "code",
   "execution_count": 9,
   "id": "cea62f77",
   "metadata": {
    "colab": {
     "base_uri": "https://localhost:8080/",
     "height": 112
    },
    "execution": {
     "iopub.execute_input": "2021-09-07T02:39:33.204809Z",
     "iopub.status.busy": "2021-09-07T02:39:33.204427Z",
     "iopub.status.idle": "2021-09-07T02:39:33.228037Z",
     "shell.execute_reply": "2021-09-07T02:39:33.227692Z"
    },
    "id": "79d4d928",
    "outputId": "c7f74b6a-8ca2-44fa-b54b-f4eeac518300"
   },
   "outputs": [
    {
     "data": {
      "text/html": [
       "<div>\n",
       "<style scoped>\n",
       "    .dataframe tbody tr th:only-of-type {\n",
       "        vertical-align: middle;\n",
       "    }\n",
       "\n",
       "    .dataframe tbody tr th {\n",
       "        vertical-align: top;\n",
       "    }\n",
       "\n",
       "    .dataframe thead th {\n",
       "        text-align: right;\n",
       "    }\n",
       "</style>\n",
       "<table border=\"1\" class=\"dataframe\">\n",
       "  <thead>\n",
       "    <tr style=\"text-align: right;\">\n",
       "      <th></th>\n",
       "      <th>번호</th>\n",
       "      <th>도서명</th>\n",
       "      <th>저자</th>\n",
       "      <th>출판사</th>\n",
       "      <th>발행년도</th>\n",
       "      <th>ISBN</th>\n",
       "      <th>세트 ISBN</th>\n",
       "      <th>부가기호</th>\n",
       "      <th>권</th>\n",
       "      <th>주제분류번호</th>\n",
       "      <th>도서권수</th>\n",
       "      <th>대출건수</th>\n",
       "      <th>등록일자</th>\n",
       "    </tr>\n",
       "  </thead>\n",
       "  <tbody>\n",
       "    <tr>\n",
       "      <th>0</th>\n",
       "      <td>1</td>\n",
       "      <td>인공지능과 흙</td>\n",
       "      <td>김동훈 지음</td>\n",
       "      <td>민음사</td>\n",
       "      <td>2021</td>\n",
       "      <td>9788937444319</td>\n",
       "      <td>NaN</td>\n",
       "      <td>None</td>\n",
       "      <td>NaN</td>\n",
       "      <td>NaN</td>\n",
       "      <td>1</td>\n",
       "      <td>0</td>\n",
       "      <td>2021-03-19</td>\n",
       "    </tr>\n",
       "    <tr>\n",
       "      <th>1</th>\n",
       "      <td>2</td>\n",
       "      <td>가짜 행복 권하는 사회</td>\n",
       "      <td>김태형 지음</td>\n",
       "      <td>갈매나무</td>\n",
       "      <td>2021</td>\n",
       "      <td>9791190123969</td>\n",
       "      <td>NaN</td>\n",
       "      <td>NaN</td>\n",
       "      <td>NaN</td>\n",
       "      <td>NaN</td>\n",
       "      <td>1</td>\n",
       "      <td>0</td>\n",
       "      <td>2021-03-19</td>\n",
       "    </tr>\n",
       "  </tbody>\n",
       "</table>\n",
       "</div>"
      ],
      "text/plain": [
       "   번호           도서명      저자   출판사  발행년도           ISBN 세트 ISBN  부가기호    권  \\\n",
       "0   1       인공지능과 흙  김동훈 지음   민음사  2021  9788937444319     NaN  None  NaN   \n",
       "1   2  가짜 행복 권하는 사회  김태형 지음  갈매나무  2021  9791190123969     NaN   NaN  NaN   \n",
       "\n",
       "  주제분류번호  도서권수  대출건수        등록일자  \n",
       "0    NaN     1     0  2021-03-19  \n",
       "1    NaN     1     0  2021-03-19  "
      ]
     },
     "execution_count": 9,
     "metadata": {},
     "output_type": "execute_result"
    }
   ],
   "source": [
    "ns_book4.loc[0, '부가기호'] = None\n",
    "ns_book4.head(2)"
   ]
  },
  {
   "cell_type": "code",
   "execution_count": 10,
   "id": "8634236a",
   "metadata": {
    "colab": {
     "base_uri": "https://localhost:8080/",
     "height": 112
    },
    "execution": {
     "iopub.execute_input": "2021-09-07T02:39:33.233777Z",
     "iopub.status.busy": "2021-09-07T02:39:33.232841Z",
     "iopub.status.idle": "2021-09-07T02:39:33.266810Z",
     "shell.execute_reply": "2021-09-07T02:39:33.266453Z"
    },
    "id": "778a0fd9",
    "outputId": "53acd2ee-82ca-4e83-f8bb-e3dfac8a0f2c"
   },
   "outputs": [
    {
     "data": {
      "text/html": [
       "<div>\n",
       "<style scoped>\n",
       "    .dataframe tbody tr th:only-of-type {\n",
       "        vertical-align: middle;\n",
       "    }\n",
       "\n",
       "    .dataframe tbody tr th {\n",
       "        vertical-align: top;\n",
       "    }\n",
       "\n",
       "    .dataframe thead th {\n",
       "        text-align: right;\n",
       "    }\n",
       "</style>\n",
       "<table border=\"1\" class=\"dataframe\">\n",
       "  <thead>\n",
       "    <tr style=\"text-align: right;\">\n",
       "      <th></th>\n",
       "      <th>번호</th>\n",
       "      <th>도서명</th>\n",
       "      <th>저자</th>\n",
       "      <th>출판사</th>\n",
       "      <th>발행년도</th>\n",
       "      <th>ISBN</th>\n",
       "      <th>세트 ISBN</th>\n",
       "      <th>부가기호</th>\n",
       "      <th>권</th>\n",
       "      <th>주제분류번호</th>\n",
       "      <th>도서권수</th>\n",
       "      <th>대출건수</th>\n",
       "      <th>등록일자</th>\n",
       "    </tr>\n",
       "  </thead>\n",
       "  <tbody>\n",
       "    <tr>\n",
       "      <th>0</th>\n",
       "      <td>1</td>\n",
       "      <td>인공지능과 흙</td>\n",
       "      <td>김동훈 지음</td>\n",
       "      <td>민음사</td>\n",
       "      <td>2021</td>\n",
       "      <td>9788937444319</td>\n",
       "      <td>NaN</td>\n",
       "      <td>NaN</td>\n",
       "      <td>NaN</td>\n",
       "      <td>NaN</td>\n",
       "      <td>1</td>\n",
       "      <td>0</td>\n",
       "      <td>2021-03-19</td>\n",
       "    </tr>\n",
       "    <tr>\n",
       "      <th>1</th>\n",
       "      <td>2</td>\n",
       "      <td>가짜 행복 권하는 사회</td>\n",
       "      <td>김태형 지음</td>\n",
       "      <td>갈매나무</td>\n",
       "      <td>2021</td>\n",
       "      <td>9791190123969</td>\n",
       "      <td>NaN</td>\n",
       "      <td>NaN</td>\n",
       "      <td>NaN</td>\n",
       "      <td>NaN</td>\n",
       "      <td>1</td>\n",
       "      <td>0</td>\n",
       "      <td>2021-03-19</td>\n",
       "    </tr>\n",
       "  </tbody>\n",
       "</table>\n",
       "</div>"
      ],
      "text/plain": [
       "   번호           도서명      저자   출판사  발행년도           ISBN 세트 ISBN 부가기호    권  \\\n",
       "0   1       인공지능과 흙  김동훈 지음   민음사  2021  9788937444319     NaN  NaN  NaN   \n",
       "1   2  가짜 행복 권하는 사회  김태형 지음  갈매나무  2021  9791190123969     NaN  NaN  NaN   \n",
       "\n",
       "  주제분류번호  도서권수  대출건수        등록일자  \n",
       "0    NaN     1     0  2021-03-19  \n",
       "1    NaN     1     0  2021-03-19  "
      ]
     },
     "execution_count": 10,
     "metadata": {},
     "output_type": "execute_result"
    }
   ],
   "source": [
    "import numpy as np\n",
    "\n",
    "ns_book4.loc[0, '부가기호'] = np.nan\n",
    "ns_book4.head(2)"
   ]
  },
  {
   "cell_type": "code",
   "execution_count": 11,
   "id": "6b4fd348",
   "metadata": {
    "colab": {
     "base_uri": "https://localhost:8080/"
    },
    "execution": {
     "iopub.execute_input": "2021-09-07T02:39:33.286458Z",
     "iopub.status.busy": "2021-09-07T02:39:33.285615Z",
     "iopub.status.idle": "2021-09-07T02:39:33.309445Z",
     "shell.execute_reply": "2021-09-07T02:39:33.309075Z"
    },
    "id": "5ff583ec",
    "outputId": "674f75e4-3d34-4ec7-e4e4-e8b5f0cf1a89"
   },
   "outputs": [
    {
     "data": {
      "text/plain": [
       "0"
      ]
     },
     "execution_count": 11,
     "metadata": {},
     "output_type": "execute_result"
    }
   ],
   "source": [
    "set_isbn_na_rows = ns_book4['세트 ISBN'].isna()\n",
    "ns_book4.loc[set_isbn_na_rows, '세트 ISBN'] = ''\n",
    "\n",
    "ns_book4['세트 ISBN'].isna().sum()"
   ]
  },
  {
   "cell_type": "code",
   "execution_count": 12,
   "id": "1ff3effa",
   "metadata": {
    "colab": {
     "base_uri": "https://localhost:8080/"
    },
    "execution": {
     "iopub.execute_input": "2021-09-07T02:39:33.313466Z",
     "iopub.status.busy": "2021-09-07T02:39:33.313089Z",
     "iopub.status.idle": "2021-09-07T02:39:33.590846Z",
     "shell.execute_reply": "2021-09-07T02:39:33.591545Z"
    },
    "id": "82670d93",
    "outputId": "d73b943e-35f5-4311-a84e-9e410b1b3ce3"
   },
   "outputs": [
    {
     "data": {
      "text/plain": [
       "번호         0\n",
       "도서명        0\n",
       "저자         0\n",
       "출판사        0\n",
       "발행년도       0\n",
       "ISBN       0\n",
       "세트 ISBN    0\n",
       "부가기호       0\n",
       "권          0\n",
       "주제분류번호     0\n",
       "도서권수       0\n",
       "대출건수       0\n",
       "등록일자       0\n",
       "dtype: int64"
      ]
     },
     "execution_count": 12,
     "metadata": {},
     "output_type": "execute_result"
    }
   ],
   "source": [
    "ns_book4.fillna('없음').isna().sum()"
   ]
  },
  {
   "cell_type": "code",
   "execution_count": 13,
   "id": "d8f33b39",
   "metadata": {
    "colab": {
     "base_uri": "https://localhost:8080/"
    },
    "execution": {
     "iopub.execute_input": "2021-09-07T02:39:33.609977Z",
     "iopub.status.busy": "2021-09-07T02:39:33.609139Z",
     "iopub.status.idle": "2021-09-07T02:39:33.626748Z",
     "shell.execute_reply": "2021-09-07T02:39:33.625899Z"
    },
    "id": "da237558",
    "outputId": "6d4d4659-0af0-4464-db06-91f6c04d8daa"
   },
   "outputs": [
    {
     "data": {
      "text/plain": [
       "0"
      ]
     },
     "execution_count": 13,
     "metadata": {},
     "output_type": "execute_result"
    }
   ],
   "source": [
    "ns_book4['부가기호'].fillna('없음').isna().sum()"
   ]
  },
  {
   "cell_type": "code",
   "execution_count": 14,
   "id": "f70640ca",
   "metadata": {
    "colab": {
     "base_uri": "https://localhost:8080/"
    },
    "execution": {
     "iopub.execute_input": "2021-09-07T02:39:33.631143Z",
     "iopub.status.busy": "2021-09-07T02:39:33.630077Z",
     "iopub.status.idle": "2021-09-07T02:39:33.795194Z",
     "shell.execute_reply": "2021-09-07T02:39:33.794438Z"
    },
    "id": "d653319a",
    "outputId": "c8e5cdca-e3d1-4f5b-ccbd-42f21c2488b3"
   },
   "outputs": [
    {
     "data": {
      "text/plain": [
       "번호              0\n",
       "도서명           403\n",
       "저자            198\n",
       "출판사          4641\n",
       "발행년도           14\n",
       "ISBN            0\n",
       "세트 ISBN         0\n",
       "부가기호            0\n",
       "권          321213\n",
       "주제분류번호      19864\n",
       "도서권수            0\n",
       "대출건수            0\n",
       "등록일자            0\n",
       "dtype: int64"
      ]
     },
     "execution_count": 14,
     "metadata": {},
     "output_type": "execute_result"
    }
   ],
   "source": [
    "ns_book4.fillna({'부가기호':'없음'}).isna().sum()"
   ]
  },
  {
   "cell_type": "code",
   "execution_count": 15,
   "id": "7d627c8a",
   "metadata": {
    "colab": {
     "base_uri": "https://localhost:8080/"
    },
    "execution": {
     "iopub.execute_input": "2021-09-07T02:39:33.798670Z",
     "iopub.status.busy": "2021-09-07T02:39:33.798250Z",
     "iopub.status.idle": "2021-09-07T02:39:34.074964Z",
     "shell.execute_reply": "2021-09-07T02:39:34.074548Z"
    },
    "id": "241a4d91",
    "outputId": "748d47d2-f4e0-4df8-93e6-c9f331fc3c40"
   },
   "outputs": [
    {
     "data": {
      "text/plain": [
       "번호         0\n",
       "도서명        0\n",
       "저자         0\n",
       "출판사        0\n",
       "발행년도       0\n",
       "ISBN       0\n",
       "세트 ISBN    0\n",
       "부가기호       0\n",
       "권          0\n",
       "주제분류번호     0\n",
       "도서권수       0\n",
       "대출건수       0\n",
       "등록일자       0\n",
       "dtype: int64"
      ]
     },
     "execution_count": 15,
     "metadata": {},
     "output_type": "execute_result"
    }
   ],
   "source": [
    "ns_book4.replace(np.nan, '없음').isna().sum()"
   ]
  },
  {
   "cell_type": "code",
   "execution_count": 16,
   "id": "0b5af030",
   "metadata": {
    "colab": {
     "base_uri": "https://localhost:8080/",
     "height": 112
    },
    "execution": {
     "iopub.execute_input": "2021-09-07T02:39:34.106317Z",
     "iopub.status.busy": "2021-09-07T02:39:34.105629Z",
     "iopub.status.idle": "2021-09-07T02:39:34.611078Z",
     "shell.execute_reply": "2021-09-07T02:39:34.610214Z"
    },
    "id": "bed64b14",
    "outputId": "54aafa48-8fac-4cf3-9fe6-893eaa7de16d"
   },
   "outputs": [
    {
     "data": {
      "text/html": [
       "<div>\n",
       "<style scoped>\n",
       "    .dataframe tbody tr th:only-of-type {\n",
       "        vertical-align: middle;\n",
       "    }\n",
       "\n",
       "    .dataframe tbody tr th {\n",
       "        vertical-align: top;\n",
       "    }\n",
       "\n",
       "    .dataframe thead th {\n",
       "        text-align: right;\n",
       "    }\n",
       "</style>\n",
       "<table border=\"1\" class=\"dataframe\">\n",
       "  <thead>\n",
       "    <tr style=\"text-align: right;\">\n",
       "      <th></th>\n",
       "      <th>번호</th>\n",
       "      <th>도서명</th>\n",
       "      <th>저자</th>\n",
       "      <th>출판사</th>\n",
       "      <th>발행년도</th>\n",
       "      <th>ISBN</th>\n",
       "      <th>세트 ISBN</th>\n",
       "      <th>부가기호</th>\n",
       "      <th>권</th>\n",
       "      <th>주제분류번호</th>\n",
       "      <th>도서권수</th>\n",
       "      <th>대출건수</th>\n",
       "      <th>등록일자</th>\n",
       "    </tr>\n",
       "  </thead>\n",
       "  <tbody>\n",
       "    <tr>\n",
       "      <th>0</th>\n",
       "      <td>1</td>\n",
       "      <td>인공지능과 흙</td>\n",
       "      <td>김동훈 지음</td>\n",
       "      <td>민음사</td>\n",
       "      <td>21</td>\n",
       "      <td>9788937444319</td>\n",
       "      <td></td>\n",
       "      <td>없음</td>\n",
       "      <td>없음</td>\n",
       "      <td>없음</td>\n",
       "      <td>1</td>\n",
       "      <td>0</td>\n",
       "      <td>2021-03-19</td>\n",
       "    </tr>\n",
       "    <tr>\n",
       "      <th>1</th>\n",
       "      <td>2</td>\n",
       "      <td>가짜 행복 권하는 사회</td>\n",
       "      <td>김태형 지음</td>\n",
       "      <td>갈매나무</td>\n",
       "      <td>21</td>\n",
       "      <td>9791190123969</td>\n",
       "      <td></td>\n",
       "      <td>없음</td>\n",
       "      <td>없음</td>\n",
       "      <td>없음</td>\n",
       "      <td>1</td>\n",
       "      <td>0</td>\n",
       "      <td>2021-03-19</td>\n",
       "    </tr>\n",
       "  </tbody>\n",
       "</table>\n",
       "</div>"
      ],
      "text/plain": [
       "   번호           도서명      저자   출판사 발행년도           ISBN 세트 ISBN 부가기호   권 주제분류번호  \\\n",
       "0   1       인공지능과 흙  김동훈 지음   민음사   21  9788937444319           없음  없음     없음   \n",
       "1   2  가짜 행복 권하는 사회  김태형 지음  갈매나무   21  9791190123969           없음  없음     없음   \n",
       "\n",
       "   도서권수  대출건수        등록일자  \n",
       "0     1     0  2021-03-19  \n",
       "1     1     0  2021-03-19  "
      ]
     },
     "execution_count": 16,
     "metadata": {},
     "output_type": "execute_result"
    }
   ],
   "source": [
    "ns_book4.replace([np.nan, '2021'], ['없음', '21']).head(2)"
   ]
  },
  {
   "cell_type": "code",
   "execution_count": 17,
   "id": "45d0e5b3",
   "metadata": {
    "colab": {
     "base_uri": "https://localhost:8080/",
     "height": 112
    },
    "execution": {
     "iopub.execute_input": "2021-09-07T02:39:34.615702Z",
     "iopub.status.busy": "2021-09-07T02:39:34.614658Z",
     "iopub.status.idle": "2021-09-07T02:39:35.120230Z",
     "shell.execute_reply": "2021-09-07T02:39:35.119471Z"
    },
    "id": "713026df",
    "outputId": "7a7d2849-c2dc-450e-ef53-ed438e2ba17e"
   },
   "outputs": [
    {
     "data": {
      "text/html": [
       "<div>\n",
       "<style scoped>\n",
       "    .dataframe tbody tr th:only-of-type {\n",
       "        vertical-align: middle;\n",
       "    }\n",
       "\n",
       "    .dataframe tbody tr th {\n",
       "        vertical-align: top;\n",
       "    }\n",
       "\n",
       "    .dataframe thead th {\n",
       "        text-align: right;\n",
       "    }\n",
       "</style>\n",
       "<table border=\"1\" class=\"dataframe\">\n",
       "  <thead>\n",
       "    <tr style=\"text-align: right;\">\n",
       "      <th></th>\n",
       "      <th>번호</th>\n",
       "      <th>도서명</th>\n",
       "      <th>저자</th>\n",
       "      <th>출판사</th>\n",
       "      <th>발행년도</th>\n",
       "      <th>ISBN</th>\n",
       "      <th>세트 ISBN</th>\n",
       "      <th>부가기호</th>\n",
       "      <th>권</th>\n",
       "      <th>주제분류번호</th>\n",
       "      <th>도서권수</th>\n",
       "      <th>대출건수</th>\n",
       "      <th>등록일자</th>\n",
       "    </tr>\n",
       "  </thead>\n",
       "  <tbody>\n",
       "    <tr>\n",
       "      <th>0</th>\n",
       "      <td>1</td>\n",
       "      <td>인공지능과 흙</td>\n",
       "      <td>김동훈 지음</td>\n",
       "      <td>민음사</td>\n",
       "      <td>21</td>\n",
       "      <td>9788937444319</td>\n",
       "      <td></td>\n",
       "      <td>없음</td>\n",
       "      <td>없음</td>\n",
       "      <td>없음</td>\n",
       "      <td>1</td>\n",
       "      <td>0</td>\n",
       "      <td>2021-03-19</td>\n",
       "    </tr>\n",
       "    <tr>\n",
       "      <th>1</th>\n",
       "      <td>2</td>\n",
       "      <td>가짜 행복 권하는 사회</td>\n",
       "      <td>김태형 지음</td>\n",
       "      <td>갈매나무</td>\n",
       "      <td>21</td>\n",
       "      <td>9791190123969</td>\n",
       "      <td></td>\n",
       "      <td>없음</td>\n",
       "      <td>없음</td>\n",
       "      <td>없음</td>\n",
       "      <td>1</td>\n",
       "      <td>0</td>\n",
       "      <td>2021-03-19</td>\n",
       "    </tr>\n",
       "  </tbody>\n",
       "</table>\n",
       "</div>"
      ],
      "text/plain": [
       "   번호           도서명      저자   출판사 발행년도           ISBN 세트 ISBN 부가기호   권 주제분류번호  \\\n",
       "0   1       인공지능과 흙  김동훈 지음   민음사   21  9788937444319           없음  없음     없음   \n",
       "1   2  가짜 행복 권하는 사회  김태형 지음  갈매나무   21  9791190123969           없음  없음     없음   \n",
       "\n",
       "   도서권수  대출건수        등록일자  \n",
       "0     1     0  2021-03-19  \n",
       "1     1     0  2021-03-19  "
      ]
     },
     "execution_count": 17,
     "metadata": {},
     "output_type": "execute_result"
    }
   ],
   "source": [
    "ns_book4.replace({np.nan: '없음', '2021': '21'}).head(2)"
   ]
  },
  {
   "cell_type": "code",
   "execution_count": 18,
   "id": "4f8e2bd3",
   "metadata": {
    "colab": {
     "base_uri": "https://localhost:8080/",
     "height": 112
    },
    "execution": {
     "iopub.execute_input": "2021-09-07T02:39:35.125049Z",
     "iopub.status.busy": "2021-09-07T02:39:35.124664Z",
     "iopub.status.idle": "2021-09-07T02:39:35.170731Z",
     "shell.execute_reply": "2021-09-07T02:39:35.170374Z"
    },
    "id": "66996732",
    "outputId": "0f41f3e8-a56a-4885-add2-cb15ea74d7a8"
   },
   "outputs": [
    {
     "data": {
      "text/html": [
       "<div>\n",
       "<style scoped>\n",
       "    .dataframe tbody tr th:only-of-type {\n",
       "        vertical-align: middle;\n",
       "    }\n",
       "\n",
       "    .dataframe tbody tr th {\n",
       "        vertical-align: top;\n",
       "    }\n",
       "\n",
       "    .dataframe thead th {\n",
       "        text-align: right;\n",
       "    }\n",
       "</style>\n",
       "<table border=\"1\" class=\"dataframe\">\n",
       "  <thead>\n",
       "    <tr style=\"text-align: right;\">\n",
       "      <th></th>\n",
       "      <th>번호</th>\n",
       "      <th>도서명</th>\n",
       "      <th>저자</th>\n",
       "      <th>출판사</th>\n",
       "      <th>발행년도</th>\n",
       "      <th>ISBN</th>\n",
       "      <th>세트 ISBN</th>\n",
       "      <th>부가기호</th>\n",
       "      <th>권</th>\n",
       "      <th>주제분류번호</th>\n",
       "      <th>도서권수</th>\n",
       "      <th>대출건수</th>\n",
       "      <th>등록일자</th>\n",
       "    </tr>\n",
       "  </thead>\n",
       "  <tbody>\n",
       "    <tr>\n",
       "      <th>0</th>\n",
       "      <td>1</td>\n",
       "      <td>인공지능과 흙</td>\n",
       "      <td>김동훈 지음</td>\n",
       "      <td>민음사</td>\n",
       "      <td>2021</td>\n",
       "      <td>9788937444319</td>\n",
       "      <td></td>\n",
       "      <td>없음</td>\n",
       "      <td>NaN</td>\n",
       "      <td>NaN</td>\n",
       "      <td>1</td>\n",
       "      <td>0</td>\n",
       "      <td>2021-03-19</td>\n",
       "    </tr>\n",
       "    <tr>\n",
       "      <th>1</th>\n",
       "      <td>2</td>\n",
       "      <td>가짜 행복 권하는 사회</td>\n",
       "      <td>김태형 지음</td>\n",
       "      <td>갈매나무</td>\n",
       "      <td>2021</td>\n",
       "      <td>9791190123969</td>\n",
       "      <td></td>\n",
       "      <td>없음</td>\n",
       "      <td>NaN</td>\n",
       "      <td>NaN</td>\n",
       "      <td>1</td>\n",
       "      <td>0</td>\n",
       "      <td>2021-03-19</td>\n",
       "    </tr>\n",
       "  </tbody>\n",
       "</table>\n",
       "</div>"
      ],
      "text/plain": [
       "   번호           도서명      저자   출판사  발행년도           ISBN 세트 ISBN 부가기호    권  \\\n",
       "0   1       인공지능과 흙  김동훈 지음   민음사  2021  9788937444319           없음  NaN   \n",
       "1   2  가짜 행복 권하는 사회  김태형 지음  갈매나무  2021  9791190123969           없음  NaN   \n",
       "\n",
       "  주제분류번호  도서권수  대출건수        등록일자  \n",
       "0    NaN     1     0  2021-03-19  \n",
       "1    NaN     1     0  2021-03-19  "
      ]
     },
     "execution_count": 18,
     "metadata": {},
     "output_type": "execute_result"
    }
   ],
   "source": [
    "ns_book4.replace({'부가기호': np.nan}, '없음').head(2)"
   ]
  },
  {
   "cell_type": "code",
   "execution_count": 19,
   "id": "30add58b",
   "metadata": {
    "colab": {
     "base_uri": "https://localhost:8080/",
     "height": 112
    },
    "execution": {
     "iopub.execute_input": "2021-09-07T02:39:35.175407Z",
     "iopub.status.busy": "2021-09-07T02:39:35.175028Z",
     "iopub.status.idle": "2021-09-07T02:39:35.264026Z",
     "shell.execute_reply": "2021-09-07T02:39:35.264360Z"
    },
    "id": "66401359",
    "outputId": "960679dc-0d18-453f-fdb2-e019e8329d62"
   },
   "outputs": [
    {
     "data": {
      "text/html": [
       "<div>\n",
       "<style scoped>\n",
       "    .dataframe tbody tr th:only-of-type {\n",
       "        vertical-align: middle;\n",
       "    }\n",
       "\n",
       "    .dataframe tbody tr th {\n",
       "        vertical-align: top;\n",
       "    }\n",
       "\n",
       "    .dataframe thead th {\n",
       "        text-align: right;\n",
       "    }\n",
       "</style>\n",
       "<table border=\"1\" class=\"dataframe\">\n",
       "  <thead>\n",
       "    <tr style=\"text-align: right;\">\n",
       "      <th></th>\n",
       "      <th>번호</th>\n",
       "      <th>도서명</th>\n",
       "      <th>저자</th>\n",
       "      <th>출판사</th>\n",
       "      <th>발행년도</th>\n",
       "      <th>ISBN</th>\n",
       "      <th>세트 ISBN</th>\n",
       "      <th>부가기호</th>\n",
       "      <th>권</th>\n",
       "      <th>주제분류번호</th>\n",
       "      <th>도서권수</th>\n",
       "      <th>대출건수</th>\n",
       "      <th>등록일자</th>\n",
       "    </tr>\n",
       "  </thead>\n",
       "  <tbody>\n",
       "    <tr>\n",
       "      <th>0</th>\n",
       "      <td>1</td>\n",
       "      <td>인공지능과 흙</td>\n",
       "      <td>김동훈 지음</td>\n",
       "      <td>민음사</td>\n",
       "      <td>21</td>\n",
       "      <td>9788937444319</td>\n",
       "      <td></td>\n",
       "      <td>없음</td>\n",
       "      <td>NaN</td>\n",
       "      <td>NaN</td>\n",
       "      <td>1</td>\n",
       "      <td>0</td>\n",
       "      <td>2021-03-19</td>\n",
       "    </tr>\n",
       "    <tr>\n",
       "      <th>1</th>\n",
       "      <td>2</td>\n",
       "      <td>가짜 행복 권하는 사회</td>\n",
       "      <td>김태형 지음</td>\n",
       "      <td>갈매나무</td>\n",
       "      <td>21</td>\n",
       "      <td>9791190123969</td>\n",
       "      <td></td>\n",
       "      <td>없음</td>\n",
       "      <td>NaN</td>\n",
       "      <td>NaN</td>\n",
       "      <td>1</td>\n",
       "      <td>0</td>\n",
       "      <td>2021-03-19</td>\n",
       "    </tr>\n",
       "  </tbody>\n",
       "</table>\n",
       "</div>"
      ],
      "text/plain": [
       "   번호           도서명      저자   출판사 발행년도           ISBN 세트 ISBN 부가기호    권  \\\n",
       "0   1       인공지능과 흙  김동훈 지음   민음사   21  9788937444319           없음  NaN   \n",
       "1   2  가짜 행복 권하는 사회  김태형 지음  갈매나무   21  9791190123969           없음  NaN   \n",
       "\n",
       "  주제분류번호  도서권수  대출건수        등록일자  \n",
       "0    NaN     1     0  2021-03-19  \n",
       "1    NaN     1     0  2021-03-19  "
      ]
     },
     "execution_count": 19,
     "metadata": {},
     "output_type": "execute_result"
    }
   ],
   "source": [
    "ns_book4.replace({'부가기호': {np.nan: '없음'}, '발행년도': {'2021': '21'}}).head(2)"
   ]
  },
  {
   "cell_type": "markdown",
   "id": "b7aac5ad",
   "metadata": {
    "id": "c184bd43"
   },
   "source": [
    "## 정규 표현식"
   ]
  },
  {
   "cell_type": "code",
   "execution_count": 20,
   "id": "f6651c66",
   "metadata": {
    "colab": {
     "base_uri": "https://localhost:8080/",
     "height": 208
    },
    "execution": {
     "iopub.execute_input": "2021-09-07T02:39:35.269165Z",
     "iopub.status.busy": "2021-09-07T02:39:35.268783Z",
     "iopub.status.idle": "2021-09-07T02:39:35.338578Z",
     "shell.execute_reply": "2021-09-07T02:39:35.338210Z"
    },
    "id": "890a26ce",
    "outputId": "168cb982-bb44-45a1-a198-0d9a0b7be64b"
   },
   "outputs": [
    {
     "data": {
      "text/html": [
       "<div>\n",
       "<style scoped>\n",
       "    .dataframe tbody tr th:only-of-type {\n",
       "        vertical-align: middle;\n",
       "    }\n",
       "\n",
       "    .dataframe tbody tr th {\n",
       "        vertical-align: top;\n",
       "    }\n",
       "\n",
       "    .dataframe thead th {\n",
       "        text-align: right;\n",
       "    }\n",
       "</style>\n",
       "<table border=\"1\" class=\"dataframe\">\n",
       "  <thead>\n",
       "    <tr style=\"text-align: right;\">\n",
       "      <th></th>\n",
       "      <th>번호</th>\n",
       "      <th>도서명</th>\n",
       "      <th>저자</th>\n",
       "      <th>출판사</th>\n",
       "      <th>발행년도</th>\n",
       "      <th>ISBN</th>\n",
       "      <th>세트 ISBN</th>\n",
       "      <th>부가기호</th>\n",
       "      <th>권</th>\n",
       "      <th>주제분류번호</th>\n",
       "      <th>도서권수</th>\n",
       "      <th>대출건수</th>\n",
       "      <th>등록일자</th>\n",
       "    </tr>\n",
       "  </thead>\n",
       "  <tbody>\n",
       "    <tr>\n",
       "      <th>100</th>\n",
       "      <td>101</td>\n",
       "      <td>No라고 말할 줄 아는 남편과 아내 - 개정판</td>\n",
       "      <td>헨리 클라우드, 존 타운센드 (지은이), 김진웅 (옮긴이)</td>\n",
       "      <td>좋은씨앗</td>\n",
       "      <td>2018</td>\n",
       "      <td>9788958743019</td>\n",
       "      <td></td>\n",
       "      <td>NaN</td>\n",
       "      <td>NaN</td>\n",
       "      <td>234.9</td>\n",
       "      <td>1</td>\n",
       "      <td>1</td>\n",
       "      <td>2021-03-15</td>\n",
       "    </tr>\n",
       "    <tr>\n",
       "      <th>101</th>\n",
       "      <td>102</td>\n",
       "      <td>D2C 레볼루션 - 스타트업부터 글로벌 기업까지, 마켓 체인저의 필수 전략</td>\n",
       "      <td>로런스 인그래시아 (지은이), 안기순 (옮긴이)</td>\n",
       "      <td>부키</td>\n",
       "      <td>21</td>\n",
       "      <td>9788960518483</td>\n",
       "      <td></td>\n",
       "      <td>NaN</td>\n",
       "      <td>NaN</td>\n",
       "      <td>325.1</td>\n",
       "      <td>1</td>\n",
       "      <td>0</td>\n",
       "      <td>2021-03-15</td>\n",
       "    </tr>\n",
       "  </tbody>\n",
       "</table>\n",
       "</div>"
      ],
      "text/plain": [
       "      번호                                        도서명  \\\n",
       "100  101                  No라고 말할 줄 아는 남편과 아내 - 개정판   \n",
       "101  102  D2C 레볼루션 - 스타트업부터 글로벌 기업까지, 마켓 체인저의 필수 전략   \n",
       "\n",
       "                                   저자   출판사  발행년도           ISBN 세트 ISBN 부가기호  \\\n",
       "100  헨리 클라우드, 존 타운센드 (지은이), 김진웅 (옮긴이)  좋은씨앗  2018  9788958743019          NaN   \n",
       "101        로런스 인그래시아 (지은이), 안기순 (옮긴이)    부키    21  9788960518483          NaN   \n",
       "\n",
       "       권 주제분류번호  도서권수  대출건수        등록일자  \n",
       "100  NaN  234.9     1     1  2021-03-15  \n",
       "101  NaN  325.1     1     0  2021-03-15  "
      ]
     },
     "execution_count": 20,
     "metadata": {},
     "output_type": "execute_result"
    }
   ],
   "source": [
    "ns_book4.replace({'발행년도': {'2021': '21'}})[100:102]"
   ]
  },
  {
   "cell_type": "code",
   "execution_count": 21,
   "id": "5bf67b76",
   "metadata": {
    "colab": {
     "base_uri": "https://localhost:8080/",
     "height": 208
    },
    "execution": {
     "iopub.execute_input": "2021-09-07T02:39:35.343165Z",
     "iopub.status.busy": "2021-09-07T02:39:35.342792Z",
     "iopub.status.idle": "2021-09-07T02:39:36.968362Z",
     "shell.execute_reply": "2021-09-07T02:39:36.967493Z"
    },
    "id": "16b2e54d",
    "outputId": "872b964b-1f8f-47d9-e81c-a47c945d3c61",
    "scrolled": false
   },
   "outputs": [
    {
     "data": {
      "text/html": [
       "<div>\n",
       "<style scoped>\n",
       "    .dataframe tbody tr th:only-of-type {\n",
       "        vertical-align: middle;\n",
       "    }\n",
       "\n",
       "    .dataframe tbody tr th {\n",
       "        vertical-align: top;\n",
       "    }\n",
       "\n",
       "    .dataframe thead th {\n",
       "        text-align: right;\n",
       "    }\n",
       "</style>\n",
       "<table border=\"1\" class=\"dataframe\">\n",
       "  <thead>\n",
       "    <tr style=\"text-align: right;\">\n",
       "      <th></th>\n",
       "      <th>번호</th>\n",
       "      <th>도서명</th>\n",
       "      <th>저자</th>\n",
       "      <th>출판사</th>\n",
       "      <th>발행년도</th>\n",
       "      <th>ISBN</th>\n",
       "      <th>세트 ISBN</th>\n",
       "      <th>부가기호</th>\n",
       "      <th>권</th>\n",
       "      <th>주제분류번호</th>\n",
       "      <th>도서권수</th>\n",
       "      <th>대출건수</th>\n",
       "      <th>등록일자</th>\n",
       "    </tr>\n",
       "  </thead>\n",
       "  <tbody>\n",
       "    <tr>\n",
       "      <th>100</th>\n",
       "      <td>101</td>\n",
       "      <td>No라고 말할 줄 아는 남편과 아내 - 개정판</td>\n",
       "      <td>헨리 클라우드, 존 타운센드 (지은이), 김진웅 (옮긴이)</td>\n",
       "      <td>좋은씨앗</td>\n",
       "      <td>18</td>\n",
       "      <td>9788958743019</td>\n",
       "      <td></td>\n",
       "      <td>NaN</td>\n",
       "      <td>NaN</td>\n",
       "      <td>234.9</td>\n",
       "      <td>1</td>\n",
       "      <td>1</td>\n",
       "      <td>2021-03-15</td>\n",
       "    </tr>\n",
       "    <tr>\n",
       "      <th>101</th>\n",
       "      <td>102</td>\n",
       "      <td>D2C 레볼루션 - 스타트업부터 글로벌 기업까지, 마켓 체인저의 필수 전략</td>\n",
       "      <td>로런스 인그래시아 (지은이), 안기순 (옮긴이)</td>\n",
       "      <td>부키</td>\n",
       "      <td>21</td>\n",
       "      <td>9788960518483</td>\n",
       "      <td></td>\n",
       "      <td>NaN</td>\n",
       "      <td>NaN</td>\n",
       "      <td>325.1</td>\n",
       "      <td>1</td>\n",
       "      <td>0</td>\n",
       "      <td>2021-03-15</td>\n",
       "    </tr>\n",
       "  </tbody>\n",
       "</table>\n",
       "</div>"
      ],
      "text/plain": [
       "      번호                                        도서명  \\\n",
       "100  101                  No라고 말할 줄 아는 남편과 아내 - 개정판   \n",
       "101  102  D2C 레볼루션 - 스타트업부터 글로벌 기업까지, 마켓 체인저의 필수 전략   \n",
       "\n",
       "                                   저자   출판사 발행년도           ISBN 세트 ISBN 부가기호  \\\n",
       "100  헨리 클라우드, 존 타운센드 (지은이), 김진웅 (옮긴이)  좋은씨앗   18  9788958743019          NaN   \n",
       "101        로런스 인그래시아 (지은이), 안기순 (옮긴이)    부키   21  9788960518483          NaN   \n",
       "\n",
       "       권 주제분류번호  도서권수  대출건수        등록일자  \n",
       "100  NaN  234.9     1     1  2021-03-15  \n",
       "101  NaN  325.1     1     0  2021-03-15  "
      ]
     },
     "execution_count": 21,
     "metadata": {},
     "output_type": "execute_result"
    }
   ],
   "source": [
    "ns_book4.replace({'발행년도': {r'\\d\\d(\\d\\d)': r'\\1'}}, regex=True)[100:102]"
   ]
  },
  {
   "cell_type": "code",
   "execution_count": 22,
   "id": "ae5ebb60",
   "metadata": {
    "colab": {
     "base_uri": "https://localhost:8080/",
     "height": 208
    },
    "execution": {
     "iopub.execute_input": "2021-09-07T02:39:36.974430Z",
     "iopub.status.busy": "2021-09-07T02:39:36.973499Z",
     "iopub.status.idle": "2021-09-07T02:39:38.583163Z",
     "shell.execute_reply": "2021-09-07T02:39:38.583863Z"
    },
    "id": "2db150f0",
    "outputId": "c38a098e-f175-4322-a959-7c08e546a6d3"
   },
   "outputs": [
    {
     "data": {
      "text/html": [
       "<div>\n",
       "<style scoped>\n",
       "    .dataframe tbody tr th:only-of-type {\n",
       "        vertical-align: middle;\n",
       "    }\n",
       "\n",
       "    .dataframe tbody tr th {\n",
       "        vertical-align: top;\n",
       "    }\n",
       "\n",
       "    .dataframe thead th {\n",
       "        text-align: right;\n",
       "    }\n",
       "</style>\n",
       "<table border=\"1\" class=\"dataframe\">\n",
       "  <thead>\n",
       "    <tr style=\"text-align: right;\">\n",
       "      <th></th>\n",
       "      <th>번호</th>\n",
       "      <th>도서명</th>\n",
       "      <th>저자</th>\n",
       "      <th>출판사</th>\n",
       "      <th>발행년도</th>\n",
       "      <th>ISBN</th>\n",
       "      <th>세트 ISBN</th>\n",
       "      <th>부가기호</th>\n",
       "      <th>권</th>\n",
       "      <th>주제분류번호</th>\n",
       "      <th>도서권수</th>\n",
       "      <th>대출건수</th>\n",
       "      <th>등록일자</th>\n",
       "    </tr>\n",
       "  </thead>\n",
       "  <tbody>\n",
       "    <tr>\n",
       "      <th>100</th>\n",
       "      <td>101</td>\n",
       "      <td>No라고 말할 줄 아는 남편과 아내 - 개정판</td>\n",
       "      <td>헨리 클라우드, 존 타운센드 (지은이), 김진웅 (옮긴이)</td>\n",
       "      <td>좋은씨앗</td>\n",
       "      <td>18</td>\n",
       "      <td>9788958743019</td>\n",
       "      <td></td>\n",
       "      <td>NaN</td>\n",
       "      <td>NaN</td>\n",
       "      <td>234.9</td>\n",
       "      <td>1</td>\n",
       "      <td>1</td>\n",
       "      <td>2021-03-15</td>\n",
       "    </tr>\n",
       "    <tr>\n",
       "      <th>101</th>\n",
       "      <td>102</td>\n",
       "      <td>D2C 레볼루션 - 스타트업부터 글로벌 기업까지, 마켓 체인저의 필수 전략</td>\n",
       "      <td>로런스 인그래시아 (지은이), 안기순 (옮긴이)</td>\n",
       "      <td>부키</td>\n",
       "      <td>21</td>\n",
       "      <td>9788960518483</td>\n",
       "      <td></td>\n",
       "      <td>NaN</td>\n",
       "      <td>NaN</td>\n",
       "      <td>325.1</td>\n",
       "      <td>1</td>\n",
       "      <td>0</td>\n",
       "      <td>2021-03-15</td>\n",
       "    </tr>\n",
       "  </tbody>\n",
       "</table>\n",
       "</div>"
      ],
      "text/plain": [
       "      번호                                        도서명  \\\n",
       "100  101                  No라고 말할 줄 아는 남편과 아내 - 개정판   \n",
       "101  102  D2C 레볼루션 - 스타트업부터 글로벌 기업까지, 마켓 체인저의 필수 전략   \n",
       "\n",
       "                                   저자   출판사 발행년도           ISBN 세트 ISBN 부가기호  \\\n",
       "100  헨리 클라우드, 존 타운센드 (지은이), 김진웅 (옮긴이)  좋은씨앗   18  9788958743019          NaN   \n",
       "101        로런스 인그래시아 (지은이), 안기순 (옮긴이)    부키   21  9788960518483          NaN   \n",
       "\n",
       "       권 주제분류번호  도서권수  대출건수        등록일자  \n",
       "100  NaN  234.9     1     1  2021-03-15  \n",
       "101  NaN  325.1     1     0  2021-03-15  "
      ]
     },
     "execution_count": 22,
     "metadata": {},
     "output_type": "execute_result"
    }
   ],
   "source": [
    "ns_book4.replace({'발행년도': {r'\\d{2}(\\d{2})': r'\\1'}}, regex=True)[100:102]"
   ]
  },
  {
   "cell_type": "code",
   "execution_count": 23,
   "id": "2b8c0f5b",
   "metadata": {
    "colab": {
     "base_uri": "https://localhost:8080/",
     "height": 208
    },
    "execution": {
     "iopub.execute_input": "2021-09-07T02:39:38.588146Z",
     "iopub.status.busy": "2021-09-07T02:39:38.587498Z",
     "iopub.status.idle": "2021-09-07T02:39:41.479122Z",
     "shell.execute_reply": "2021-09-07T02:39:41.478218Z"
    },
    "id": "9a34a19f",
    "outputId": "59111f63-190a-49ba-c729-c51e874b18fc",
    "scrolled": true
   },
   "outputs": [
    {
     "data": {
      "text/html": [
       "<div>\n",
       "<style scoped>\n",
       "    .dataframe tbody tr th:only-of-type {\n",
       "        vertical-align: middle;\n",
       "    }\n",
       "\n",
       "    .dataframe tbody tr th {\n",
       "        vertical-align: top;\n",
       "    }\n",
       "\n",
       "    .dataframe thead th {\n",
       "        text-align: right;\n",
       "    }\n",
       "</style>\n",
       "<table border=\"1\" class=\"dataframe\">\n",
       "  <thead>\n",
       "    <tr style=\"text-align: right;\">\n",
       "      <th></th>\n",
       "      <th>번호</th>\n",
       "      <th>도서명</th>\n",
       "      <th>저자</th>\n",
       "      <th>출판사</th>\n",
       "      <th>발행년도</th>\n",
       "      <th>ISBN</th>\n",
       "      <th>세트 ISBN</th>\n",
       "      <th>부가기호</th>\n",
       "      <th>권</th>\n",
       "      <th>주제분류번호</th>\n",
       "      <th>도서권수</th>\n",
       "      <th>대출건수</th>\n",
       "      <th>등록일자</th>\n",
       "    </tr>\n",
       "  </thead>\n",
       "  <tbody>\n",
       "    <tr>\n",
       "      <th>100</th>\n",
       "      <td>101</td>\n",
       "      <td>No라고 말할 줄 아는 남편과 아내 - 개정판</td>\n",
       "      <td>헨리 클라우드, 존 타운센드, 김진웅</td>\n",
       "      <td>좋은씨앗</td>\n",
       "      <td>18</td>\n",
       "      <td>9788958743019</td>\n",
       "      <td></td>\n",
       "      <td>NaN</td>\n",
       "      <td>NaN</td>\n",
       "      <td>234.9</td>\n",
       "      <td>1</td>\n",
       "      <td>1</td>\n",
       "      <td>2021-03-15</td>\n",
       "    </tr>\n",
       "    <tr>\n",
       "      <th>101</th>\n",
       "      <td>102</td>\n",
       "      <td>D2C 레볼루션 - 스타트업부터 글로벌 기업까지, 마켓 체인저의 필수 전략</td>\n",
       "      <td>로런스 인그래시아, 안기순</td>\n",
       "      <td>부키</td>\n",
       "      <td>21</td>\n",
       "      <td>9788960518483</td>\n",
       "      <td></td>\n",
       "      <td>NaN</td>\n",
       "      <td>NaN</td>\n",
       "      <td>325.1</td>\n",
       "      <td>1</td>\n",
       "      <td>0</td>\n",
       "      <td>2021-03-15</td>\n",
       "    </tr>\n",
       "  </tbody>\n",
       "</table>\n",
       "</div>"
      ],
      "text/plain": [
       "      번호                                        도서명                    저자  \\\n",
       "100  101                  No라고 말할 줄 아는 남편과 아내 - 개정판  헨리 클라우드, 존 타운센드, 김진웅   \n",
       "101  102  D2C 레볼루션 - 스타트업부터 글로벌 기업까지, 마켓 체인저의 필수 전략        로런스 인그래시아, 안기순   \n",
       "\n",
       "      출판사 발행년도           ISBN 세트 ISBN 부가기호    권 주제분류번호  도서권수  대출건수        등록일자  \n",
       "100  좋은씨앗   18  9788958743019          NaN  NaN  234.9     1     1  2021-03-15  \n",
       "101    부키   21  9788960518483          NaN  NaN  325.1     1     0  2021-03-15  "
      ]
     },
     "execution_count": 23,
     "metadata": {},
     "output_type": "execute_result"
    }
   ],
   "source": [
    "ns_book4.replace({'저자': {r'(.*)\\s\\(지은이\\)(.*)\\s\\(옮긴이\\)': r'\\1\\2'}, \n",
    "                  '발행년도': {r'\\d{2}(\\d{2})': r'\\1'}}, regex=True)[100:102]"
   ]
  },
  {
   "cell_type": "markdown",
   "id": "c74ef5e6",
   "metadata": {
    "id": "29292f5a"
   },
   "source": [
    "## 잘못된 값 바꾸기"
   ]
  },
  {
   "cell_type": "code",
   "execution_count": 24,
   "id": "970a94e5",
   "metadata": {
    "execution": {
     "iopub.execute_input": "2021-09-07T02:39:41.484107Z",
     "iopub.status.busy": "2021-09-07T02:39:41.483149Z",
     "iopub.status.idle": "2021-09-07T02:39:41.485302Z",
     "shell.execute_reply": "2021-09-07T02:39:41.486078Z"
    },
    "id": "8aa3077b"
   },
   "outputs": [],
   "source": [
    "# 아래 코드는 오류 발생\n",
    "# ns_book4.astype({'발행년도': 'int32'})"
   ]
  },
  {
   "cell_type": "code",
   "execution_count": 25,
   "id": "6b04c810",
   "metadata": {
    "colab": {
     "base_uri": "https://localhost:8080/"
    },
    "execution": {
     "iopub.execute_input": "2021-09-07T02:39:41.505513Z",
     "iopub.status.busy": "2021-09-07T02:39:41.504665Z",
     "iopub.status.idle": "2021-09-07T02:39:41.662592Z",
     "shell.execute_reply": "2021-09-07T02:39:41.661806Z"
    },
    "id": "958a5e5b",
    "outputId": "8c541765-57c9-40d6-c7b0-8dd3330ffb61"
   },
   "outputs": [
    {
     "data": {
      "text/plain": [
       "407"
      ]
     },
     "execution_count": 25,
     "metadata": {},
     "output_type": "execute_result"
    }
   ],
   "source": [
    "ns_book4['발행년도'].str.contains('1988').sum()"
   ]
  },
  {
   "cell_type": "code",
   "execution_count": 26,
   "id": "3fde1e07",
   "metadata": {
    "colab": {
     "base_uri": "https://localhost:8080/",
     "height": 424
    },
    "execution": {
     "iopub.execute_input": "2021-09-07T02:39:41.680596Z",
     "iopub.status.busy": "2021-09-07T02:39:41.679942Z",
     "iopub.status.idle": "2021-09-07T02:39:41.833155Z",
     "shell.execute_reply": "2021-09-07T02:39:41.833854Z"
    },
    "id": "999b2e94",
    "outputId": "85d9e0a0-3e83-498a-be32-eadfd8f5e953"
   },
   "outputs": [
    {
     "name": "stdout",
     "output_type": "stream",
     "text": [
      "1777\n"
     ]
    },
    {
     "data": {
      "text/html": [
       "<div>\n",
       "<style scoped>\n",
       "    .dataframe tbody tr th:only-of-type {\n",
       "        vertical-align: middle;\n",
       "    }\n",
       "\n",
       "    .dataframe tbody tr th {\n",
       "        vertical-align: top;\n",
       "    }\n",
       "\n",
       "    .dataframe thead th {\n",
       "        text-align: right;\n",
       "    }\n",
       "</style>\n",
       "<table border=\"1\" class=\"dataframe\">\n",
       "  <thead>\n",
       "    <tr style=\"text-align: right;\">\n",
       "      <th></th>\n",
       "      <th>번호</th>\n",
       "      <th>도서명</th>\n",
       "      <th>저자</th>\n",
       "      <th>출판사</th>\n",
       "      <th>발행년도</th>\n",
       "      <th>ISBN</th>\n",
       "      <th>세트 ISBN</th>\n",
       "      <th>부가기호</th>\n",
       "      <th>권</th>\n",
       "      <th>주제분류번호</th>\n",
       "      <th>도서권수</th>\n",
       "      <th>대출건수</th>\n",
       "      <th>등록일자</th>\n",
       "    </tr>\n",
       "  </thead>\n",
       "  <tbody>\n",
       "    <tr>\n",
       "      <th>19138</th>\n",
       "      <td>19565</td>\n",
       "      <td>단국강토</td>\n",
       "      <td>홍태수 저</td>\n",
       "      <td>매일경제신문사</td>\n",
       "      <td>1988.</td>\n",
       "      <td>9788974420031</td>\n",
       "      <td></td>\n",
       "      <td>NaN</td>\n",
       "      <td>NaN</td>\n",
       "      <td>511.1</td>\n",
       "      <td>1</td>\n",
       "      <td>1</td>\n",
       "      <td>2019-12-19</td>\n",
       "    </tr>\n",
       "    <tr>\n",
       "      <th>19227</th>\n",
       "      <td>19736</td>\n",
       "      <td>삼성의 역사</td>\n",
       "      <td>송부웅 撰</td>\n",
       "      <td>삼양</td>\n",
       "      <td>단기4334[2001]</td>\n",
       "      <td>9788985464369</td>\n",
       "      <td></td>\n",
       "      <td>0</td>\n",
       "      <td>NaN</td>\n",
       "      <td>911.02</td>\n",
       "      <td>1</td>\n",
       "      <td>1</td>\n",
       "      <td>2019-12-06</td>\n",
       "    </tr>\n",
       "    <tr>\n",
       "      <th>26097</th>\n",
       "      <td>26812</td>\n",
       "      <td>배고픈 애벌레</td>\n",
       "      <td>에릭 칼 글·그림 ;이희재 옮김</td>\n",
       "      <td>더큰컴퍼니</td>\n",
       "      <td>[2019]</td>\n",
       "      <td>9788959514083</td>\n",
       "      <td></td>\n",
       "      <td>NaN</td>\n",
       "      <td>NaN</td>\n",
       "      <td>843</td>\n",
       "      <td>1</td>\n",
       "      <td>0</td>\n",
       "      <td>2019-08-12</td>\n",
       "    </tr>\n",
       "    <tr>\n",
       "      <th>29817</th>\n",
       "      <td>30586</td>\n",
       "      <td>(The) Sopranos sessions</td>\n",
       "      <td>Matt Zoller Seitz,$eAlan Sepinwall,$eLaura Lip...</td>\n",
       "      <td>Harry N Abrams Inc</td>\n",
       "      <td>2019.</td>\n",
       "      <td>9781419734946</td>\n",
       "      <td></td>\n",
       "      <td>NaN</td>\n",
       "      <td>NaN</td>\n",
       "      <td>326.76</td>\n",
       "      <td>1</td>\n",
       "      <td>0</td>\n",
       "      <td>2019-06-13</td>\n",
       "    </tr>\n",
       "    <tr>\n",
       "      <th>29940</th>\n",
       "      <td>30709</td>\n",
       "      <td>다음엔 너야</td>\n",
       "      <td>에른스트 얀들 글;노르만 융에 그림;박상순 옮김</td>\n",
       "      <td>비룡소</td>\n",
       "      <td>2018.</td>\n",
       "      <td>9788949110646</td>\n",
       "      <td>9788949110004</td>\n",
       "      <td>7</td>\n",
       "      <td>NaN</td>\n",
       "      <td>853</td>\n",
       "      <td>1</td>\n",
       "      <td>9</td>\n",
       "      <td>2019-06-04</td>\n",
       "    </tr>\n",
       "  </tbody>\n",
       "</table>\n",
       "</div>"
      ],
      "text/plain": [
       "          번호                       도서명  \\\n",
       "19138  19565                      단국강토   \n",
       "19227  19736                    삼성의 역사   \n",
       "26097  26812                  배고픈 애벌레    \n",
       "29817  30586  (The) Sopranos sessions    \n",
       "29940  30709                    다음엔 너야   \n",
       "\n",
       "                                                      저자                 출판사  \\\n",
       "19138                                              홍태수 저             매일경제신문사   \n",
       "19227                                              송부웅 撰                  삼양   \n",
       "26097                                  에릭 칼 글·그림 ;이희재 옮김               더큰컴퍼니   \n",
       "29817  Matt Zoller Seitz,$eAlan Sepinwall,$eLaura Lip...  Harry N Abrams Inc   \n",
       "29940                         에른스트 얀들 글;노르만 융에 그림;박상순 옮김                 비룡소   \n",
       "\n",
       "               발행년도           ISBN        세트 ISBN 부가기호    권  주제분류번호  도서권수  \\\n",
       "19138         1988.  9788974420031                 NaN  NaN   511.1     1   \n",
       "19227  단기4334[2001]  9788985464369                   0  NaN  911.02     1   \n",
       "26097        [2019]  9788959514083                 NaN  NaN     843     1   \n",
       "29817         2019.  9781419734946                 NaN  NaN  326.76     1   \n",
       "29940         2018.  9788949110646  9788949110004    7  NaN     853     1   \n",
       "\n",
       "       대출건수        등록일자  \n",
       "19138     1  2019-12-19  \n",
       "19227     1  2019-12-06  \n",
       "26097     0  2019-08-12  \n",
       "29817     0  2019-06-13  \n",
       "29940     9  2019-06-04  "
      ]
     },
     "execution_count": 26,
     "metadata": {},
     "output_type": "execute_result"
    }
   ],
   "source": [
    "invalid_number = ns_book4['발행년도'].str.contains('\\D', na=True)\n",
    "print(invalid_number.sum())\n",
    "ns_book4[invalid_number].head()"
   ]
  },
  {
   "cell_type": "code",
   "execution_count": 27,
   "id": "ced0818b",
   "metadata": {
    "colab": {
     "base_uri": "https://localhost:8080/",
     "height": 372
    },
    "execution": {
     "iopub.execute_input": "2021-09-07T02:39:41.839594Z",
     "iopub.status.busy": "2021-09-07T02:39:41.838637Z",
     "iopub.status.idle": "2021-09-07T02:39:43.083960Z",
     "shell.execute_reply": "2021-09-07T02:39:43.084684Z"
    },
    "id": "ad6b75ab",
    "outputId": "50e0803e-7ce9-41c8-ee5e-12d726e5af14",
    "scrolled": false
   },
   "outputs": [
    {
     "data": {
      "text/html": [
       "<div>\n",
       "<style scoped>\n",
       "    .dataframe tbody tr th:only-of-type {\n",
       "        vertical-align: middle;\n",
       "    }\n",
       "\n",
       "    .dataframe tbody tr th {\n",
       "        vertical-align: top;\n",
       "    }\n",
       "\n",
       "    .dataframe thead th {\n",
       "        text-align: right;\n",
       "    }\n",
       "</style>\n",
       "<table border=\"1\" class=\"dataframe\">\n",
       "  <thead>\n",
       "    <tr style=\"text-align: right;\">\n",
       "      <th></th>\n",
       "      <th>번호</th>\n",
       "      <th>도서명</th>\n",
       "      <th>저자</th>\n",
       "      <th>출판사</th>\n",
       "      <th>발행년도</th>\n",
       "      <th>ISBN</th>\n",
       "      <th>세트 ISBN</th>\n",
       "      <th>부가기호</th>\n",
       "      <th>권</th>\n",
       "      <th>주제분류번호</th>\n",
       "      <th>도서권수</th>\n",
       "      <th>대출건수</th>\n",
       "      <th>등록일자</th>\n",
       "    </tr>\n",
       "  </thead>\n",
       "  <tbody>\n",
       "    <tr>\n",
       "      <th>19138</th>\n",
       "      <td>19565</td>\n",
       "      <td>단국강토</td>\n",
       "      <td>홍태수 저</td>\n",
       "      <td>매일경제신문사</td>\n",
       "      <td>1988</td>\n",
       "      <td>9788974420031</td>\n",
       "      <td></td>\n",
       "      <td>NaN</td>\n",
       "      <td>NaN</td>\n",
       "      <td>511.1</td>\n",
       "      <td>1</td>\n",
       "      <td>1</td>\n",
       "      <td>2019-12-19</td>\n",
       "    </tr>\n",
       "    <tr>\n",
       "      <th>19227</th>\n",
       "      <td>19736</td>\n",
       "      <td>삼성의 역사</td>\n",
       "      <td>송부웅 撰</td>\n",
       "      <td>삼양</td>\n",
       "      <td>2001</td>\n",
       "      <td>9788985464369</td>\n",
       "      <td></td>\n",
       "      <td>0</td>\n",
       "      <td>NaN</td>\n",
       "      <td>911.02</td>\n",
       "      <td>1</td>\n",
       "      <td>1</td>\n",
       "      <td>2019-12-06</td>\n",
       "    </tr>\n",
       "    <tr>\n",
       "      <th>26097</th>\n",
       "      <td>26812</td>\n",
       "      <td>배고픈 애벌레</td>\n",
       "      <td>에릭 칼 글·그림 ;이희재 옮김</td>\n",
       "      <td>더큰컴퍼니</td>\n",
       "      <td>2019</td>\n",
       "      <td>9788959514083</td>\n",
       "      <td></td>\n",
       "      <td>NaN</td>\n",
       "      <td>NaN</td>\n",
       "      <td>843</td>\n",
       "      <td>1</td>\n",
       "      <td>0</td>\n",
       "      <td>2019-08-12</td>\n",
       "    </tr>\n",
       "    <tr>\n",
       "      <th>29817</th>\n",
       "      <td>30586</td>\n",
       "      <td>(The) Sopranos sessions</td>\n",
       "      <td>Matt Zoller Seitz,$eAlan Sepinwall,$eLaura Lip...</td>\n",
       "      <td>Harry N Abrams Inc</td>\n",
       "      <td>2019</td>\n",
       "      <td>9781419734946</td>\n",
       "      <td></td>\n",
       "      <td>NaN</td>\n",
       "      <td>NaN</td>\n",
       "      <td>326.76</td>\n",
       "      <td>1</td>\n",
       "      <td>0</td>\n",
       "      <td>2019-06-13</td>\n",
       "    </tr>\n",
       "    <tr>\n",
       "      <th>29940</th>\n",
       "      <td>30709</td>\n",
       "      <td>다음엔 너야</td>\n",
       "      <td>에른스트 얀들 글;노르만 융에 그림;박상순 옮김</td>\n",
       "      <td>비룡소</td>\n",
       "      <td>2018</td>\n",
       "      <td>9788949110646</td>\n",
       "      <td>9788949110004</td>\n",
       "      <td>7</td>\n",
       "      <td>NaN</td>\n",
       "      <td>853</td>\n",
       "      <td>1</td>\n",
       "      <td>9</td>\n",
       "      <td>2019-06-04</td>\n",
       "    </tr>\n",
       "  </tbody>\n",
       "</table>\n",
       "</div>"
      ],
      "text/plain": [
       "          번호                       도서명  \\\n",
       "19138  19565                      단국강토   \n",
       "19227  19736                    삼성의 역사   \n",
       "26097  26812                  배고픈 애벌레    \n",
       "29817  30586  (The) Sopranos sessions    \n",
       "29940  30709                    다음엔 너야   \n",
       "\n",
       "                                                      저자                 출판사  \\\n",
       "19138                                              홍태수 저             매일경제신문사   \n",
       "19227                                              송부웅 撰                  삼양   \n",
       "26097                                  에릭 칼 글·그림 ;이희재 옮김               더큰컴퍼니   \n",
       "29817  Matt Zoller Seitz,$eAlan Sepinwall,$eLaura Lip...  Harry N Abrams Inc   \n",
       "29940                         에른스트 얀들 글;노르만 융에 그림;박상순 옮김                 비룡소   \n",
       "\n",
       "       발행년도           ISBN        세트 ISBN 부가기호    권  주제분류번호  도서권수  대출건수  \\\n",
       "19138  1988  9788974420031                 NaN  NaN   511.1     1     1   \n",
       "19227  2001  9788985464369                   0  NaN  911.02     1     1   \n",
       "26097  2019  9788959514083                 NaN  NaN     843     1     0   \n",
       "29817  2019  9781419734946                 NaN  NaN  326.76     1     0   \n",
       "29940  2018  9788949110646  9788949110004    7  NaN     853     1     9   \n",
       "\n",
       "             등록일자  \n",
       "19138  2019-12-19  \n",
       "19227  2019-12-06  \n",
       "26097  2019-08-12  \n",
       "29817  2019-06-13  \n",
       "29940  2019-06-04  "
      ]
     },
     "execution_count": 27,
     "metadata": {},
     "output_type": "execute_result"
    }
   ],
   "source": [
    "ns_book5 = ns_book4.replace({'발행년도':r'.*(\\d{4}).*'}, r'\\1', regex=True)\n",
    "ns_book5[invalid_number].head()"
   ]
  },
  {
   "cell_type": "code",
   "execution_count": 28,
   "id": "bb4e7690",
   "metadata": {
    "colab": {
     "base_uri": "https://localhost:8080/",
     "height": 372
    },
    "execution": {
     "iopub.execute_input": "2021-09-07T02:39:43.107376Z",
     "iopub.status.busy": "2021-09-07T02:39:43.106530Z",
     "iopub.status.idle": "2021-09-07T02:39:43.250038Z",
     "shell.execute_reply": "2021-09-07T02:39:43.250771Z"
    },
    "id": "e9283b20",
    "outputId": "cc233047-5b82-4143-c1a5-ece293b2a11d",
    "scrolled": true
   },
   "outputs": [
    {
     "name": "stdout",
     "output_type": "stream",
     "text": [
      "67\n"
     ]
    },
    {
     "data": {
      "text/html": [
       "<div>\n",
       "<style scoped>\n",
       "    .dataframe tbody tr th:only-of-type {\n",
       "        vertical-align: middle;\n",
       "    }\n",
       "\n",
       "    .dataframe tbody tr th {\n",
       "        vertical-align: top;\n",
       "    }\n",
       "\n",
       "    .dataframe thead th {\n",
       "        text-align: right;\n",
       "    }\n",
       "</style>\n",
       "<table border=\"1\" class=\"dataframe\">\n",
       "  <thead>\n",
       "    <tr style=\"text-align: right;\">\n",
       "      <th></th>\n",
       "      <th>번호</th>\n",
       "      <th>도서명</th>\n",
       "      <th>저자</th>\n",
       "      <th>출판사</th>\n",
       "      <th>발행년도</th>\n",
       "      <th>ISBN</th>\n",
       "      <th>세트 ISBN</th>\n",
       "      <th>부가기호</th>\n",
       "      <th>권</th>\n",
       "      <th>주제분류번호</th>\n",
       "      <th>도서권수</th>\n",
       "      <th>대출건수</th>\n",
       "      <th>등록일자</th>\n",
       "    </tr>\n",
       "  </thead>\n",
       "  <tbody>\n",
       "    <tr>\n",
       "      <th>30838</th>\n",
       "      <td>31616</td>\n",
       "      <td>본격 한중일 세계사 5</td>\n",
       "      <td>굽시니스트 지음</td>\n",
       "      <td>위즈덤하우스</td>\n",
       "      <td>NaN</td>\n",
       "      <td>9791190065092</td>\n",
       "      <td></td>\n",
       "      <td>NaN</td>\n",
       "      <td>NaN</td>\n",
       "      <td>NaN</td>\n",
       "      <td>0</td>\n",
       "      <td>0</td>\n",
       "      <td>2019-05-28</td>\n",
       "    </tr>\n",
       "    <tr>\n",
       "      <th>39130</th>\n",
       "      <td>40141</td>\n",
       "      <td>정책금융의 현황과 발전과제</td>\n",
       "      <td>정책금융연구회</td>\n",
       "      <td>한국산업은행</td>\n",
       "      <td>NaN</td>\n",
       "      <td>9788992784108</td>\n",
       "      <td></td>\n",
       "      <td>NaN</td>\n",
       "      <td>NaN</td>\n",
       "      <td>327.1</td>\n",
       "      <td>1</td>\n",
       "      <td>0</td>\n",
       "      <td>2019-01-22</td>\n",
       "    </tr>\n",
       "    <tr>\n",
       "      <th>39256</th>\n",
       "      <td>40268</td>\n",
       "      <td>서울지역 유적 발굴조사 총서 3</td>\n",
       "      <td>서울역사박물관</td>\n",
       "      <td>서울역사박물관</td>\n",
       "      <td>NaN</td>\n",
       "      <td>9791186324714</td>\n",
       "      <td>9791186324431</td>\n",
       "      <td>NaN</td>\n",
       "      <td>NaN</td>\n",
       "      <td>NaN</td>\n",
       "      <td>0</td>\n",
       "      <td>0</td>\n",
       "      <td>2019-01-22</td>\n",
       "    </tr>\n",
       "    <tr>\n",
       "      <th>76836</th>\n",
       "      <td>81202</td>\n",
       "      <td>흰머리 큰줄기</td>\n",
       "      <td>한호진 지음</td>\n",
       "      <td>秀文出版社</td>\n",
       "      <td>[발행년불명]</td>\n",
       "      <td>9788973010769</td>\n",
       "      <td></td>\n",
       "      <td>0</td>\n",
       "      <td>NaN</td>\n",
       "      <td>699.1</td>\n",
       "      <td>1</td>\n",
       "      <td>1</td>\n",
       "      <td>2016-11-10</td>\n",
       "    </tr>\n",
       "    <tr>\n",
       "      <th>150543</th>\n",
       "      <td>160436</td>\n",
       "      <td>(속) 경제학사</td>\n",
       "      <td>박장환 지음</td>\n",
       "      <td>NaN</td>\n",
       "      <td>[20--]</td>\n",
       "      <td>9788994339207</td>\n",
       "      <td></td>\n",
       "      <td>1</td>\n",
       "      <td>NaN</td>\n",
       "      <td>320.9</td>\n",
       "      <td>1</td>\n",
       "      <td>2</td>\n",
       "      <td>2012-11-19</td>\n",
       "    </tr>\n",
       "  </tbody>\n",
       "</table>\n",
       "</div>"
      ],
      "text/plain": [
       "            번호                도서명        저자      출판사     발행년도           ISBN  \\\n",
       "30838    31616       본격 한중일 세계사 5  굽시니스트 지음   위즈덤하우스      NaN  9791190065092   \n",
       "39130    40141     정책금융의 현황과 발전과제   정책금융연구회   한국산업은행      NaN  9788992784108   \n",
       "39256    40268  서울지역 유적 발굴조사 총서 3   서울역사박물관  서울역사박물관      NaN  9791186324714   \n",
       "76836    81202            흰머리 큰줄기    한호진 지음    秀文出版社  [발행년불명]  9788973010769   \n",
       "150543  160436          (속) 경제학사     박장환 지음      NaN   [20--]  9788994339207   \n",
       "\n",
       "              세트 ISBN 부가기호    권 주제분류번호  도서권수  대출건수        등록일자  \n",
       "30838                  NaN  NaN    NaN     0     0  2019-05-28  \n",
       "39130                  NaN  NaN  327.1     1     0  2019-01-22  \n",
       "39256   9791186324431  NaN  NaN    NaN     0     0  2019-01-22  \n",
       "76836                    0  NaN  699.1     1     1  2016-11-10  \n",
       "150543                   1  NaN  320.9     1     2  2012-11-19  "
      ]
     },
     "execution_count": 28,
     "metadata": {},
     "output_type": "execute_result"
    }
   ],
   "source": [
    "unkown_year = ns_book5['발행년도'].str.contains('\\D', na=True)\n",
    "print(unkown_year.sum())\n",
    "ns_book5[unkown_year].head()"
   ]
  },
  {
   "cell_type": "code",
   "execution_count": 29,
   "id": "f306fb99",
   "metadata": {
    "execution": {
     "iopub.execute_input": "2021-09-07T02:39:43.256263Z",
     "iopub.status.busy": "2021-09-07T02:39:43.255421Z",
     "iopub.status.idle": "2021-09-07T02:39:43.367588Z",
     "shell.execute_reply": "2021-09-07T02:39:43.368321Z"
    },
    "id": "e4cc5648"
   },
   "outputs": [],
   "source": [
    "ns_book5.loc[unkown_year, '발행년도'] = '-1'\n",
    "ns_book5 = ns_book5.astype({'발행년도': 'int32'})"
   ]
  },
  {
   "cell_type": "code",
   "execution_count": 30,
   "id": "5ea544b8",
   "metadata": {
    "colab": {
     "base_uri": "https://localhost:8080/"
    },
    "execution": {
     "iopub.execute_input": "2021-09-07T02:39:43.373112Z",
     "iopub.status.busy": "2021-09-07T02:39:43.372279Z",
     "iopub.status.idle": "2021-09-07T02:39:43.382083Z",
     "shell.execute_reply": "2021-09-07T02:39:43.382924Z"
    },
    "id": "f9e743e4",
    "outputId": "010db713-0e25-4a69-a37a-7e06d60be54e"
   },
   "outputs": [
    {
     "data": {
      "text/plain": [
       "131"
      ]
     },
     "execution_count": 30,
     "metadata": {},
     "output_type": "execute_result"
    }
   ],
   "source": [
    "ns_book5['발행년도'].gt(4000).sum()"
   ]
  },
  {
   "cell_type": "code",
   "execution_count": 31,
   "id": "3d2d793f",
   "metadata": {
    "execution": {
     "iopub.execute_input": "2021-09-07T02:39:43.388665Z",
     "iopub.status.busy": "2021-09-07T02:39:43.388012Z",
     "iopub.status.idle": "2021-09-07T02:39:43.393686Z",
     "shell.execute_reply": "2021-09-07T02:39:43.394520Z"
    },
    "id": "cdc0a18e"
   },
   "outputs": [],
   "source": [
    "dangun_yy_rows = ns_book5['발행년도'].gt(4000)\n",
    "ns_book5.loc[dangun_yy_rows, '발행년도'] = ns_book5.loc[dangun_yy_rows, '발행년도'] - 2333"
   ]
  },
  {
   "cell_type": "code",
   "execution_count": 32,
   "id": "7873b9da",
   "metadata": {
    "colab": {
     "base_uri": "https://localhost:8080/",
     "height": 226
    },
    "execution": {
     "iopub.execute_input": "2021-09-07T02:39:43.399474Z",
     "iopub.status.busy": "2021-09-07T02:39:43.398671Z",
     "iopub.status.idle": "2021-09-07T02:39:43.413161Z",
     "shell.execute_reply": "2021-09-07T02:39:43.413845Z"
    },
    "id": "3d7ac5a2",
    "outputId": "9967b060-4d50-4c84-c8f7-96ccff9c5ad2"
   },
   "outputs": [
    {
     "name": "stdout",
     "output_type": "stream",
     "text": [
      "13\n"
     ]
    },
    {
     "data": {
      "text/html": [
       "<div>\n",
       "<style scoped>\n",
       "    .dataframe tbody tr th:only-of-type {\n",
       "        vertical-align: middle;\n",
       "    }\n",
       "\n",
       "    .dataframe tbody tr th {\n",
       "        vertical-align: top;\n",
       "    }\n",
       "\n",
       "    .dataframe thead th {\n",
       "        text-align: right;\n",
       "    }\n",
       "</style>\n",
       "<table border=\"1\" class=\"dataframe\">\n",
       "  <thead>\n",
       "    <tr style=\"text-align: right;\">\n",
       "      <th></th>\n",
       "      <th>번호</th>\n",
       "      <th>도서명</th>\n",
       "      <th>저자</th>\n",
       "      <th>출판사</th>\n",
       "      <th>발행년도</th>\n",
       "      <th>ISBN</th>\n",
       "      <th>세트 ISBN</th>\n",
       "      <th>부가기호</th>\n",
       "      <th>권</th>\n",
       "      <th>주제분류번호</th>\n",
       "      <th>도서권수</th>\n",
       "      <th>대출건수</th>\n",
       "      <th>등록일자</th>\n",
       "    </tr>\n",
       "  </thead>\n",
       "  <tbody>\n",
       "    <tr>\n",
       "      <th>222858</th>\n",
       "      <td>234268</td>\n",
       "      <td>Modern art</td>\n",
       "      <td>[computer file]</td>\n",
       "      <td>GROLIER</td>\n",
       "      <td>7611</td>\n",
       "      <td>9780717233243</td>\n",
       "      <td></td>\n",
       "      <td>NaN</td>\n",
       "      <td>NaN</td>\n",
       "      <td>609.205</td>\n",
       "      <td>1</td>\n",
       "      <td>1</td>\n",
       "      <td>2009-05-07</td>\n",
       "    </tr>\n",
       "    <tr>\n",
       "      <th>270269</th>\n",
       "      <td>282852</td>\n",
       "      <td>현대 영어학=Linguistic theory in modern english</td>\n",
       "      <td>이재영</td>\n",
       "      <td>열림기획</td>\n",
       "      <td>7634</td>\n",
       "      <td>9788986705072</td>\n",
       "      <td></td>\n",
       "      <td>1</td>\n",
       "      <td>NaN</td>\n",
       "      <td>740.1</td>\n",
       "      <td>1</td>\n",
       "      <td>6</td>\n",
       "      <td>2007-04-14</td>\n",
       "    </tr>\n",
       "  </tbody>\n",
       "</table>\n",
       "</div>"
      ],
      "text/plain": [
       "            번호                                         도서명               저자  \\\n",
       "222858  234268                                  Modern art  [computer file]   \n",
       "270269  282852  현대 영어학=Linguistic theory in modern english              이재영   \n",
       "\n",
       "            출판사  발행년도           ISBN 세트 ISBN 부가기호    권   주제분류번호  도서권수  대출건수  \\\n",
       "222858  GROLIER  7611  9780717233243          NaN  NaN  609.205     1     1   \n",
       "270269     열림기획  7634  9788986705072            1  NaN    740.1     1     6   \n",
       "\n",
       "              등록일자  \n",
       "222858  2009-05-07  \n",
       "270269  2007-04-14  "
      ]
     },
     "execution_count": 32,
     "metadata": {},
     "output_type": "execute_result"
    }
   ],
   "source": [
    "dangun_year = ns_book5['발행년도'].gt(4000)\n",
    "print(dangun_year.sum())\n",
    "ns_book5[dangun_year].head(2)"
   ]
  },
  {
   "cell_type": "code",
   "execution_count": 33,
   "id": "b6f8b2a4",
   "metadata": {
    "execution": {
     "iopub.execute_input": "2021-09-07T02:39:43.417223Z",
     "iopub.status.busy": "2021-09-07T02:39:43.416588Z",
     "iopub.status.idle": "2021-09-07T02:39:43.420025Z",
     "shell.execute_reply": "2021-09-07T02:39:43.420836Z"
    },
    "id": "e6a8db18"
   },
   "outputs": [],
   "source": [
    "ns_book5.loc[dangun_year, '발행년도'] = -1"
   ]
  },
  {
   "cell_type": "code",
   "execution_count": 34,
   "id": "51993967",
   "metadata": {
    "colab": {
     "base_uri": "https://localhost:8080/",
     "height": 490
    },
    "execution": {
     "iopub.execute_input": "2021-09-07T02:39:43.425487Z",
     "iopub.status.busy": "2021-09-07T02:39:43.424792Z",
     "iopub.status.idle": "2021-09-07T02:39:43.443321Z",
     "shell.execute_reply": "2021-09-07T02:39:43.444017Z"
    },
    "id": "a77e39b3",
    "outputId": "d9bca5e5-abdc-41bc-ca59-07023420c074",
    "scrolled": true
   },
   "outputs": [
    {
     "data": {
      "text/html": [
       "<div>\n",
       "<style scoped>\n",
       "    .dataframe tbody tr th:only-of-type {\n",
       "        vertical-align: middle;\n",
       "    }\n",
       "\n",
       "    .dataframe tbody tr th {\n",
       "        vertical-align: top;\n",
       "    }\n",
       "\n",
       "    .dataframe thead th {\n",
       "        text-align: right;\n",
       "    }\n",
       "</style>\n",
       "<table border=\"1\" class=\"dataframe\">\n",
       "  <thead>\n",
       "    <tr style=\"text-align: right;\">\n",
       "      <th></th>\n",
       "      <th>번호</th>\n",
       "      <th>도서명</th>\n",
       "      <th>저자</th>\n",
       "      <th>출판사</th>\n",
       "      <th>발행년도</th>\n",
       "      <th>ISBN</th>\n",
       "      <th>세트 ISBN</th>\n",
       "      <th>부가기호</th>\n",
       "      <th>권</th>\n",
       "      <th>주제분류번호</th>\n",
       "      <th>도서권수</th>\n",
       "      <th>대출건수</th>\n",
       "      <th>등록일자</th>\n",
       "    </tr>\n",
       "  </thead>\n",
       "  <tbody>\n",
       "    <tr>\n",
       "      <th>61149</th>\n",
       "      <td>64093</td>\n",
       "      <td>고흐 씨, 시 읽어 줄까요 :내 마음을 알아주는 시와 그림의 만남</td>\n",
       "      <td>이운진 지음</td>\n",
       "      <td>사계절</td>\n",
       "      <td>176</td>\n",
       "      <td>9788958284277</td>\n",
       "      <td></td>\n",
       "      <td>0</td>\n",
       "      <td>NaN</td>\n",
       "      <td>811.7</td>\n",
       "      <td>1</td>\n",
       "      <td>6</td>\n",
       "      <td>2017-10-27</td>\n",
       "    </tr>\n",
       "    <tr>\n",
       "      <th>70566</th>\n",
       "      <td>74347</td>\n",
       "      <td>정신 병리학의 문제들</td>\n",
       "      <td>지은이: 지그문트 프로이트 ;옮긴이: 황보석</td>\n",
       "      <td>열린책들</td>\n",
       "      <td>151</td>\n",
       "      <td>9788932905181</td>\n",
       "      <td>9788932905082</td>\n",
       "      <td>9</td>\n",
       "      <td>10</td>\n",
       "      <td>185.5</td>\n",
       "      <td>1</td>\n",
       "      <td>4</td>\n",
       "      <td>2017-04-26</td>\n",
       "    </tr>\n",
       "    <tr>\n",
       "      <th>79550</th>\n",
       "      <td>84164</td>\n",
       "      <td>(최근 7년간) 중요 민법판례 :[2009년 1월~2016년 6월 중요 판례]</td>\n",
       "      <td>이광섭 편저</td>\n",
       "      <td>법학사</td>\n",
       "      <td>163</td>\n",
       "      <td>9788962898651</td>\n",
       "      <td></td>\n",
       "      <td>9</td>\n",
       "      <td>NaN</td>\n",
       "      <td>365</td>\n",
       "      <td>1</td>\n",
       "      <td>14</td>\n",
       "      <td>2016-09-27</td>\n",
       "    </tr>\n",
       "    <tr>\n",
       "      <th>147950</th>\n",
       "      <td>157759</td>\n",
       "      <td>(한·중·일) 밥상 문화 :대표음식으로 본 3국 문화비교</td>\n",
       "      <td>김경은 지음</td>\n",
       "      <td>이가서</td>\n",
       "      <td>132</td>\n",
       "      <td>9788958643012</td>\n",
       "      <td></td>\n",
       "      <td>0</td>\n",
       "      <td>NaN</td>\n",
       "      <td>381.75</td>\n",
       "      <td>1</td>\n",
       "      <td>30</td>\n",
       "      <td>2013-02-19</td>\n",
       "    </tr>\n",
       "    <tr>\n",
       "      <th>194576</th>\n",
       "      <td>205407</td>\n",
       "      <td>책으로 뒤덮인 집의 비밀</td>\n",
       "      <td>N.E. 보드 지음 ;피터 퍼거슨 그림 ;김지현 옮김</td>\n",
       "      <td>개암나무</td>\n",
       "      <td>1015</td>\n",
       "      <td>9788992844413</td>\n",
       "      <td></td>\n",
       "      <td>7</td>\n",
       "      <td>NaN</td>\n",
       "      <td>843</td>\n",
       "      <td>1</td>\n",
       "      <td>15</td>\n",
       "      <td>2010-08-18</td>\n",
       "    </tr>\n",
       "    <tr>\n",
       "      <th>287252</th>\n",
       "      <td>300283</td>\n",
       "      <td>(밝혀질)우리歷史</td>\n",
       "      <td>吳在城 著</td>\n",
       "      <td>黎民族史硏究會</td>\n",
       "      <td>1607</td>\n",
       "      <td>9788986892130</td>\n",
       "      <td></td>\n",
       "      <td>0</td>\n",
       "      <td>NaN</td>\n",
       "      <td>911</td>\n",
       "      <td>1</td>\n",
       "      <td>5</td>\n",
       "      <td>2006-07-06</td>\n",
       "    </tr>\n",
       "  </tbody>\n",
       "</table>\n",
       "</div>"
      ],
      "text/plain": [
       "            번호                                           도서명  \\\n",
       "61149    64093         고흐 씨, 시 읽어 줄까요 :내 마음을 알아주는 시와 그림의 만남    \n",
       "70566    74347                                  정신 병리학의 문제들    \n",
       "79550    84164  (최근 7년간) 중요 민법판례 :[2009년 1월~2016년 6월 중요 판례]    \n",
       "147950  157759              (한·중·일) 밥상 문화 :대표음식으로 본 3국 문화비교    \n",
       "194576  205407                                책으로 뒤덮인 집의 비밀    \n",
       "287252  300283                                     (밝혀질)우리歷史   \n",
       "\n",
       "                                   저자      출판사  발행년도           ISBN  \\\n",
       "61149                          이운진 지음      사계절   176  9788958284277   \n",
       "70566        지은이: 지그문트 프로이트 ;옮긴이: 황보석     열린책들   151  9788932905181   \n",
       "79550                          이광섭 편저      법학사   163  9788962898651   \n",
       "147950                         김경은 지음      이가서   132  9788958643012   \n",
       "194576  N.E. 보드 지음 ;피터 퍼거슨 그림 ;김지현 옮김     개암나무  1015  9788992844413   \n",
       "287252                          吳在城 著  黎民族史硏究會  1607  9788986892130   \n",
       "\n",
       "              세트 ISBN 부가기호    권  주제분류번호  도서권수  대출건수        등록일자  \n",
       "61149                    0  NaN   811.7     1     6  2017-10-27  \n",
       "70566   9788932905082    9   10   185.5     1     4  2017-04-26  \n",
       "79550                    9  NaN     365     1    14  2016-09-27  \n",
       "147950                   0  NaN  381.75     1    30  2013-02-19  \n",
       "194576                   7  NaN     843     1    15  2010-08-18  \n",
       "287252                   0  NaN     911     1     5  2006-07-06  "
      ]
     },
     "execution_count": 34,
     "metadata": {},
     "output_type": "execute_result"
    }
   ],
   "source": [
    "old_books = ns_book5['발행년도'].gt(0) & ns_book5['발행년도'].lt(1900)\n",
    "ns_book5[old_books]"
   ]
  },
  {
   "cell_type": "code",
   "execution_count": 35,
   "id": "b47ed853",
   "metadata": {
    "execution": {
     "iopub.execute_input": "2021-09-07T02:39:43.448230Z",
     "iopub.status.busy": "2021-09-07T02:39:43.447421Z",
     "iopub.status.idle": "2021-09-07T02:39:43.450117Z",
     "shell.execute_reply": "2021-09-07T02:39:43.450934Z"
    },
    "id": "fb6158de"
   },
   "outputs": [],
   "source": [
    "ns_book5.loc[old_books, '발행년도'] = -1"
   ]
  },
  {
   "cell_type": "code",
   "execution_count": 36,
   "id": "0b4bb3bd",
   "metadata": {
    "colab": {
     "base_uri": "https://localhost:8080/"
    },
    "execution": {
     "iopub.execute_input": "2021-09-07T02:39:43.455585Z",
     "iopub.status.busy": "2021-09-07T02:39:43.454951Z",
     "iopub.status.idle": "2021-09-07T02:39:43.460030Z",
     "shell.execute_reply": "2021-09-07T02:39:43.459411Z"
    },
    "id": "5678b8ce",
    "outputId": "b2e3dd3d-765a-4a79-e1ec-43306fc5c8bd"
   },
   "outputs": [
    {
     "data": {
      "text/plain": [
       "86"
      ]
     },
     "execution_count": 36,
     "metadata": {},
     "output_type": "execute_result"
    }
   ],
   "source": [
    "ns_book5['발행년도'].eq(-1).sum()"
   ]
  },
  {
   "cell_type": "markdown",
   "id": "d4d933df",
   "metadata": {
    "id": "04667baf"
   },
   "source": [
    "## 누락된 정보 채우기"
   ]
  },
  {
   "cell_type": "code",
   "execution_count": 37,
   "id": "6341cc31",
   "metadata": {
    "colab": {
     "base_uri": "https://localhost:8080/",
     "height": 174
    },
    "execution": {
     "iopub.execute_input": "2021-09-07T02:39:43.499156Z",
     "iopub.status.busy": "2021-09-07T02:39:43.498002Z",
     "iopub.status.idle": "2021-09-07T02:39:43.527267Z",
     "shell.execute_reply": "2021-09-07T02:39:43.526533Z"
    },
    "id": "c9825005",
    "outputId": "7f58e118-aab9-449d-e63f-999d3de71e58"
   },
   "outputs": [
    {
     "name": "stdout",
     "output_type": "stream",
     "text": [
      "5268\n"
     ]
    },
    {
     "data": {
      "text/html": [
       "<div>\n",
       "<style scoped>\n",
       "    .dataframe tbody tr th:only-of-type {\n",
       "        vertical-align: middle;\n",
       "    }\n",
       "\n",
       "    .dataframe tbody tr th {\n",
       "        vertical-align: top;\n",
       "    }\n",
       "\n",
       "    .dataframe thead th {\n",
       "        text-align: right;\n",
       "    }\n",
       "</style>\n",
       "<table border=\"1\" class=\"dataframe\">\n",
       "  <thead>\n",
       "    <tr style=\"text-align: right;\">\n",
       "      <th></th>\n",
       "      <th>번호</th>\n",
       "      <th>도서명</th>\n",
       "      <th>저자</th>\n",
       "      <th>출판사</th>\n",
       "      <th>발행년도</th>\n",
       "      <th>ISBN</th>\n",
       "      <th>세트 ISBN</th>\n",
       "      <th>부가기호</th>\n",
       "      <th>권</th>\n",
       "      <th>주제분류번호</th>\n",
       "      <th>도서권수</th>\n",
       "      <th>대출건수</th>\n",
       "      <th>등록일자</th>\n",
       "    </tr>\n",
       "  </thead>\n",
       "  <tbody>\n",
       "    <tr>\n",
       "      <th>78</th>\n",
       "      <td>79</td>\n",
       "      <td>아산 정주영 레거시</td>\n",
       "      <td>김화진</td>\n",
       "      <td>NaN</td>\n",
       "      <td>2021</td>\n",
       "      <td>9788952129529</td>\n",
       "      <td></td>\n",
       "      <td>NaN</td>\n",
       "      <td>NaN</td>\n",
       "      <td>325</td>\n",
       "      <td>1</td>\n",
       "      <td>1</td>\n",
       "      <td>2021-03-15</td>\n",
       "    </tr>\n",
       "    <tr>\n",
       "      <th>265</th>\n",
       "      <td>278</td>\n",
       "      <td>골목의 시간을 그리다</td>\n",
       "      <td>정명섭.김효찬 지음</td>\n",
       "      <td>NaN</td>\n",
       "      <td>2021</td>\n",
       "      <td>9791191266054</td>\n",
       "      <td></td>\n",
       "      <td>NaN</td>\n",
       "      <td>NaN</td>\n",
       "      <td>NaN</td>\n",
       "      <td>1</td>\n",
       "      <td>0</td>\n",
       "      <td>2021-03-12</td>\n",
       "    </tr>\n",
       "  </tbody>\n",
       "</table>\n",
       "</div>"
      ],
      "text/plain": [
       "      번호          도서명          저자  출판사  발행년도           ISBN 세트 ISBN 부가기호    권  \\\n",
       "78    79   아산 정주영 레거시         김화진  NaN  2021  9788952129529          NaN  NaN   \n",
       "265  278  골목의 시간을 그리다  정명섭.김효찬 지음  NaN  2021  9791191266054          NaN  NaN   \n",
       "\n",
       "    주제분류번호  도서권수  대출건수        등록일자  \n",
       "78     325     1     1  2021-03-15  \n",
       "265    NaN     1     0  2021-03-12  "
      ]
     },
     "execution_count": 37,
     "metadata": {},
     "output_type": "execute_result"
    }
   ],
   "source": [
    "na_rows = ns_book5['도서명'].isna() | ns_book5['저자'].isna() \\\n",
    "          | ns_book5['출판사'].isna() | ns_book5['발행년도'].eq(-1)\n",
    "print(na_rows.sum())\n",
    "ns_book5[na_rows].head(2)"
   ]
  },
  {
   "cell_type": "code",
   "execution_count": 38,
   "id": "94b98793",
   "metadata": {
    "execution": {
     "iopub.execute_input": "2021-09-07T02:39:43.532071Z",
     "iopub.status.busy": "2021-09-07T02:39:43.531263Z",
     "iopub.status.idle": "2021-09-07T02:39:43.553803Z",
     "shell.execute_reply": "2021-09-07T02:39:43.554125Z"
    },
    "id": "3d15c923"
   },
   "outputs": [],
   "source": [
    "import requests\n",
    "from bs4 import BeautifulSoup"
   ]
  },
  {
   "cell_type": "code",
   "execution_count": 39,
   "id": "8c8391a0",
   "metadata": {
    "execution": {
     "iopub.execute_input": "2021-09-07T02:39:43.557517Z",
     "iopub.status.busy": "2021-09-07T02:39:43.556941Z",
     "iopub.status.idle": "2021-09-07T02:39:43.559507Z",
     "shell.execute_reply": "2021-09-07T02:39:43.558905Z"
    },
    "id": "be90aebd"
   },
   "outputs": [],
   "source": [
    "def get_book_title(isbn):\n",
    "    # Yes24 도서 검색 페이지 URL\n",
    "    url = 'http://www.yes24.com/Product/Search?domain=BOOK&query={}'\n",
    "    # URL에 ISBN을 넣어 HTML 가져옵니다.\n",
    "    r = requests.get(url.format(isbn))\n",
    "    soup = BeautifulSoup(r.text, 'html.parser')   # HTML 파싱\n",
    "    # 클래스 이름이 'gd_name'인 a 태그의 텍스트를 가져옵니다.\n",
    "    title = soup.find('a', attrs={'class':'gd_name'}) \\\n",
    "            .get_text()\n",
    "    return title"
   ]
  },
  {
   "cell_type": "code",
   "execution_count": 40,
   "id": "33001358",
   "metadata": {
    "colab": {
     "base_uri": "https://localhost:8080/",
     "height": 36
    },
    "execution": {
     "iopub.execute_input": "2021-09-07T02:39:43.567024Z",
     "iopub.status.busy": "2021-09-07T02:39:43.566398Z",
     "iopub.status.idle": "2021-09-07T02:39:44.233268Z",
     "shell.execute_reply": "2021-09-07T02:39:44.233991Z"
    },
    "id": "78ebe116",
    "outputId": "51231042-b9ef-4923-a17f-f296ec00ced7"
   },
   "outputs": [
    {
     "data": {
      "text/plain": [
       "'골목의 시간을 그리다'"
      ]
     },
     "execution_count": 40,
     "metadata": {},
     "output_type": "execute_result"
    }
   ],
   "source": [
    "get_book_title(9791191266054)"
   ]
  },
  {
   "cell_type": "code",
   "execution_count": 41,
   "id": "89ece4b2",
   "metadata": {
    "execution": {
     "iopub.execute_input": "2021-09-07T02:39:44.246689Z",
     "iopub.status.busy": "2021-09-07T02:39:44.245996Z",
     "iopub.status.idle": "2021-09-07T02:39:44.248602Z",
     "shell.execute_reply": "2021-09-07T02:39:44.249320Z"
    },
    "id": "89ff3325"
   },
   "outputs": [],
   "source": [
    "import re\n",
    "\n",
    "def get_book_info(row):\n",
    "    title = row['도서명']\n",
    "    author = row['저자']\n",
    "    pub = row['출판사']\n",
    "    year = row['발행년도']\n",
    "    # Yes24 도서 검색 페이지 URL\n",
    "    url = 'http://www.yes24.com/Product/Search?domain=BOOK&query={}'\n",
    "    # URL에 ISBN을 넣어 HTML 가져옵니다.\n",
    "    r = requests.get(url.format(row['ISBN']))\n",
    "    soup = BeautifulSoup(r.text, 'html.parser')   # HTML 파싱\n",
    "    try:\n",
    "        if pd.isna(title):\n",
    "            # 클래스 이름이 'gd_name'인 a 태그의 텍스트를 가져옵니다.\n",
    "            title = soup.find('a', attrs={'class':'gd_name'}) \\\n",
    "                    .get_text()\n",
    "    except AttributeError:\n",
    "        pass\n",
    "\n",
    "    try:\n",
    "        if pd.isna(author):\n",
    "            # 클래스 이름이 'info_auth'인 span 태그 아래 a 태그의 텍스트를 가져옵니다.\n",
    "            authors = soup.find('span', attrs={'class':'info_auth'}) \\\n",
    "                          .find_all('a')\n",
    "            author_list = [auth.get_text() for auth in authors]\n",
    "            author = ','.join(author_list)\n",
    "    except AttributeError:\n",
    "        pass\n",
    "    \n",
    "    try:\n",
    "        if pd.isna(pub):\n",
    "            # 클래스 이름이 'info_auth'인 span 태그 아래 a 태그의 텍스트를 가져옵니다.\n",
    "            pub = soup.find('span', attrs={'class':'info_pub'}) \\\n",
    "                      .find('a') \\\n",
    "                      .get_text()\n",
    "    except AttributeError:\n",
    "        pass\n",
    "    \n",
    "    try:\n",
    "        if year == -1:\n",
    "            # 클래스 이름이 'info_date'인 span 태그 아래 텍스트를 가져옵니다.\n",
    "            year_str = soup.find('span', attrs={'class':'info_date'}) \\\n",
    "                           .get_text()\n",
    "            # 정규식으로 찾은 값 중에 첫 번째 것만 사용합니다.\n",
    "            year = re.findall(r'\\d{4}', year_str)[0]\n",
    "    except AttributeError:\n",
    "        pass\n",
    "\n",
    "    return title, author, pub, year"
   ]
  },
  {
   "cell_type": "code",
   "execution_count": 42,
   "id": "652071aa",
   "metadata": {
    "colab": {
     "base_uri": "https://localhost:8080/",
     "height": 112
    },
    "execution": {
     "iopub.execute_input": "2021-09-07T02:39:44.254726Z",
     "iopub.status.busy": "2021-09-07T02:39:44.254347Z",
     "iopub.status.idle": "2021-09-07T02:39:45.443762Z",
     "shell.execute_reply": "2021-09-07T02:39:45.443014Z"
    },
    "id": "4a7a4e0a",
    "outputId": "b55c6ced-4490-4f0f-bf23-27896fba8e3c"
   },
   "outputs": [
    {
     "data": {
      "text/html": [
       "<div>\n",
       "<style scoped>\n",
       "    .dataframe tbody tr th:only-of-type {\n",
       "        vertical-align: middle;\n",
       "    }\n",
       "\n",
       "    .dataframe tbody tr th {\n",
       "        vertical-align: top;\n",
       "    }\n",
       "\n",
       "    .dataframe thead th {\n",
       "        text-align: right;\n",
       "    }\n",
       "</style>\n",
       "<table border=\"1\" class=\"dataframe\">\n",
       "  <thead>\n",
       "    <tr style=\"text-align: right;\">\n",
       "      <th></th>\n",
       "      <th>0</th>\n",
       "      <th>1</th>\n",
       "      <th>2</th>\n",
       "      <th>3</th>\n",
       "    </tr>\n",
       "  </thead>\n",
       "  <tbody>\n",
       "    <tr>\n",
       "      <th>78</th>\n",
       "      <td>아산 정주영 레거시</td>\n",
       "      <td>김화진</td>\n",
       "      <td>서울대학교출판문화원</td>\n",
       "      <td>2021</td>\n",
       "    </tr>\n",
       "    <tr>\n",
       "      <th>265</th>\n",
       "      <td>골목의 시간을 그리다</td>\n",
       "      <td>정명섭.김효찬 지음</td>\n",
       "      <td>초록비책공방</td>\n",
       "      <td>2021</td>\n",
       "    </tr>\n",
       "  </tbody>\n",
       "</table>\n",
       "</div>"
      ],
      "text/plain": [
       "               0           1           2     3\n",
       "78    아산 정주영 레거시         김화진  서울대학교출판문화원  2021\n",
       "265  골목의 시간을 그리다  정명섭.김효찬 지음      초록비책공방  2021"
      ]
     },
     "execution_count": 42,
     "metadata": {},
     "output_type": "execute_result"
    }
   ],
   "source": [
    "updated_sample = ns_book5[na_rows].head(2).apply(get_book_info,\n",
    "    axis=1, result_type ='expand')\n",
    "updated_sample"
   ]
  },
  {
   "cell_type": "markdown",
   "id": "ca335d8b",
   "metadata": {
    "id": "20267a38"
   },
   "source": [
    "아래 코드 셀은 실행하는데 시간이 오래 걸립니다. 편의를 위해 실행한 결과를 저장해 놓은 CSV 파일을 사용하겠습니다."
   ]
  },
  {
   "cell_type": "code",
   "execution_count": 43,
   "id": "a7294681",
   "metadata": {
    "execution": {
     "iopub.execute_input": "2021-09-07T02:39:45.449094Z",
     "iopub.status.busy": "2021-09-07T02:39:45.448244Z",
     "iopub.status.idle": "2021-09-07T03:02:43.213990Z",
     "shell.execute_reply": "2021-09-07T03:02:43.213226Z"
    },
    "id": "0b9747c8"
   },
   "outputs": [],
   "source": [
    "# ns_book5_update = ns_book5[na_rows].apply(get_book_info,\n",
    "#     axis=1, result_type ='expand')\n",
    "\n",
    "# ns_book5_update.columns = ['도서명','저자','출판사','발행년도']\n",
    "# ns_book5_update.head()"
   ]
  },
  {
   "cell_type": "code",
   "execution_count": 44,
   "id": "09ccfc9e",
   "metadata": {
    "colab": {
     "base_uri": "https://localhost:8080/",
     "height": 277
    },
    "execution": {
     "iopub.execute_input": "2021-09-07T03:02:43.276568Z",
     "iopub.status.busy": "2021-09-07T03:02:43.275664Z",
     "iopub.status.idle": "2021-09-07T03:02:43.279135Z",
     "shell.execute_reply": "2021-09-07T03:02:43.278127Z"
    },
    "id": "960eea51",
    "outputId": "b21487bc-95c3-4f46-bfcc-68f09d71e988"
   },
   "outputs": [
    {
     "name": "stderr",
     "output_type": "stream",
     "text": [
      "Downloading...\n",
      "From: http://bit.ly/3UJZiHw\n",
      "To: /Users/haesun/github/hg-da/ns_book5_update.csv\n",
      "100%|██████████| 406k/406k [00:00<00:00, 2.01MB/s]\n"
     ]
    },
    {
     "data": {
      "text/html": [
       "<div>\n",
       "<style scoped>\n",
       "    .dataframe tbody tr th:only-of-type {\n",
       "        vertical-align: middle;\n",
       "    }\n",
       "\n",
       "    .dataframe tbody tr th {\n",
       "        vertical-align: top;\n",
       "    }\n",
       "\n",
       "    .dataframe thead th {\n",
       "        text-align: right;\n",
       "    }\n",
       "</style>\n",
       "<table border=\"1\" class=\"dataframe\">\n",
       "  <thead>\n",
       "    <tr style=\"text-align: right;\">\n",
       "      <th></th>\n",
       "      <th>도서명</th>\n",
       "      <th>저자</th>\n",
       "      <th>출판사</th>\n",
       "      <th>발행년도</th>\n",
       "    </tr>\n",
       "  </thead>\n",
       "  <tbody>\n",
       "    <tr>\n",
       "      <th>78</th>\n",
       "      <td>아산 정주영 레거시</td>\n",
       "      <td>김화진</td>\n",
       "      <td>서울대학교출판문화원</td>\n",
       "      <td>2021</td>\n",
       "    </tr>\n",
       "    <tr>\n",
       "      <th>265</th>\n",
       "      <td>골목의 시간을 그리다</td>\n",
       "      <td>정명섭.김효찬 지음</td>\n",
       "      <td>초록비책공방</td>\n",
       "      <td>2021</td>\n",
       "    </tr>\n",
       "    <tr>\n",
       "      <th>354</th>\n",
       "      <td>한국인의 맛</td>\n",
       "      <td>정명섭 지음</td>\n",
       "      <td>추수밭</td>\n",
       "      <td>2021</td>\n",
       "    </tr>\n",
       "    <tr>\n",
       "      <th>539</th>\n",
       "      <td>한성부, 달 밝은 밤에</td>\n",
       "      <td>김이삭 지음</td>\n",
       "      <td>고즈넉이엔티</td>\n",
       "      <td>2021</td>\n",
       "    </tr>\n",
       "    <tr>\n",
       "      <th>607</th>\n",
       "      <td>100일 완성 마그마 러시아어 중고급 단어장</td>\n",
       "      <td>러포자 구제 연구소 외 지음</td>\n",
       "      <td>문예림</td>\n",
       "      <td>2021</td>\n",
       "    </tr>\n",
       "  </tbody>\n",
       "</table>\n",
       "</div>"
      ],
      "text/plain": [
       "                          도서명               저자         출판사  발행년도\n",
       "78                 아산 정주영 레거시              김화진  서울대학교출판문화원  2021\n",
       "265               골목의 시간을 그리다       정명섭.김효찬 지음      초록비책공방  2021\n",
       "354                    한국인의 맛           정명섭 지음         추수밭  2021\n",
       "539              한성부, 달 밝은 밤에           김이삭 지음      고즈넉이엔티  2021\n",
       "607  100일 완성 마그마 러시아어 중고급 단어장  러포자 구제 연구소 외 지음         문예림  2021"
      ]
     },
     "execution_count": 44,
     "metadata": {},
     "output_type": "execute_result"
    }
   ],
   "source": [
    "gdown.download('http://bit.ly/3UJZiHw', 'ns_book5_update.csv', quiet=False)\n",
    "\n",
    "ns_book5_update = pd.read_csv('ns_book5_update.csv', index_col=0)\n",
    "ns_book5_update.head()"
   ]
  },
  {
   "cell_type": "code",
   "execution_count": 45,
   "id": "1e62f5f1",
   "metadata": {
    "colab": {
     "base_uri": "https://localhost:8080/"
    },
    "execution": {
     "iopub.execute_input": "2021-09-07T03:02:43.283526Z",
     "iopub.status.busy": "2021-09-07T03:02:43.282888Z",
     "iopub.status.idle": "2021-09-07T03:02:43.286383Z",
     "shell.execute_reply": "2021-09-07T03:02:43.285539Z"
    },
    "id": "b322ab94",
    "outputId": "4cfbb358-9bbf-437d-9a2c-e50a953dbf20"
   },
   "outputs": [
    {
     "name": "stdout",
     "output_type": "stream",
     "text": [
      "4615\n"
     ]
    }
   ],
   "source": [
    "ns_book5.update(ns_book5_update)\n",
    "\n",
    "na_rows = ns_book5['도서명'].isna() | ns_book5['저자'].isna() \\\n",
    "          | ns_book5['출판사'].isna() | ns_book5['발행년도'].eq(-1)\n",
    "print(na_rows.sum())"
   ]
  },
  {
   "cell_type": "code",
   "execution_count": 46,
   "id": "88752893",
   "metadata": {
    "id": "6e7fc59f"
   },
   "outputs": [],
   "source": [
    "ns_book5 = ns_book5.astype({'발행년도': 'int32'})"
   ]
  },
  {
   "cell_type": "code",
   "execution_count": 47,
   "id": "27e82890",
   "metadata": {
    "colab": {
     "base_uri": "https://localhost:8080/",
     "height": 354
    },
    "execution": {
     "iopub.execute_input": "2021-09-07T03:02:43.291015Z",
     "iopub.status.busy": "2021-09-07T03:02:43.290368Z",
     "iopub.status.idle": "2021-09-07T03:02:43.292977Z",
     "shell.execute_reply": "2021-09-07T03:02:43.293789Z"
    },
    "id": "15b3c89b",
    "outputId": "a167a404-7203-4006-9de0-30c008dd1ca5"
   },
   "outputs": [
    {
     "data": {
      "text/html": [
       "<div>\n",
       "<style scoped>\n",
       "    .dataframe tbody tr th:only-of-type {\n",
       "        vertical-align: middle;\n",
       "    }\n",
       "\n",
       "    .dataframe tbody tr th {\n",
       "        vertical-align: top;\n",
       "    }\n",
       "\n",
       "    .dataframe thead th {\n",
       "        text-align: right;\n",
       "    }\n",
       "</style>\n",
       "<table border=\"1\" class=\"dataframe\">\n",
       "  <thead>\n",
       "    <tr style=\"text-align: right;\">\n",
       "      <th></th>\n",
       "      <th>번호</th>\n",
       "      <th>도서명</th>\n",
       "      <th>저자</th>\n",
       "      <th>출판사</th>\n",
       "      <th>발행년도</th>\n",
       "      <th>ISBN</th>\n",
       "      <th>세트 ISBN</th>\n",
       "      <th>부가기호</th>\n",
       "      <th>권</th>\n",
       "      <th>주제분류번호</th>\n",
       "      <th>도서권수</th>\n",
       "      <th>대출건수</th>\n",
       "      <th>등록일자</th>\n",
       "    </tr>\n",
       "  </thead>\n",
       "  <tbody>\n",
       "    <tr>\n",
       "      <th>0</th>\n",
       "      <td>1</td>\n",
       "      <td>인공지능과 흙</td>\n",
       "      <td>김동훈 지음</td>\n",
       "      <td>민음사</td>\n",
       "      <td>2021</td>\n",
       "      <td>9788937444319</td>\n",
       "      <td></td>\n",
       "      <td>NaN</td>\n",
       "      <td>NaN</td>\n",
       "      <td>NaN</td>\n",
       "      <td>1</td>\n",
       "      <td>0</td>\n",
       "      <td>2021-03-19</td>\n",
       "    </tr>\n",
       "    <tr>\n",
       "      <th>1</th>\n",
       "      <td>2</td>\n",
       "      <td>가짜 행복 권하는 사회</td>\n",
       "      <td>김태형 지음</td>\n",
       "      <td>갈매나무</td>\n",
       "      <td>2021</td>\n",
       "      <td>9791190123969</td>\n",
       "      <td></td>\n",
       "      <td>NaN</td>\n",
       "      <td>NaN</td>\n",
       "      <td>NaN</td>\n",
       "      <td>1</td>\n",
       "      <td>0</td>\n",
       "      <td>2021-03-19</td>\n",
       "    </tr>\n",
       "    <tr>\n",
       "      <th>2</th>\n",
       "      <td>3</td>\n",
       "      <td>나도 한 문장 잘 쓰면 바랄 게 없겠네</td>\n",
       "      <td>김선영 지음</td>\n",
       "      <td>블랙피쉬</td>\n",
       "      <td>2021</td>\n",
       "      <td>9788968332982</td>\n",
       "      <td></td>\n",
       "      <td>NaN</td>\n",
       "      <td>NaN</td>\n",
       "      <td>NaN</td>\n",
       "      <td>1</td>\n",
       "      <td>0</td>\n",
       "      <td>2021-03-19</td>\n",
       "    </tr>\n",
       "    <tr>\n",
       "      <th>3</th>\n",
       "      <td>4</td>\n",
       "      <td>예루살렘 해변</td>\n",
       "      <td>이도 게펜 지음, 임재희 옮김</td>\n",
       "      <td>문학세계사</td>\n",
       "      <td>2021</td>\n",
       "      <td>9788970759906</td>\n",
       "      <td></td>\n",
       "      <td>NaN</td>\n",
       "      <td>NaN</td>\n",
       "      <td>NaN</td>\n",
       "      <td>1</td>\n",
       "      <td>0</td>\n",
       "      <td>2021-03-19</td>\n",
       "    </tr>\n",
       "    <tr>\n",
       "      <th>4</th>\n",
       "      <td>5</td>\n",
       "      <td>김성곤의 중국한시기행 : 장강·황하 편</td>\n",
       "      <td>김성곤 지음</td>\n",
       "      <td>김영사</td>\n",
       "      <td>2021</td>\n",
       "      <td>9788934990833</td>\n",
       "      <td></td>\n",
       "      <td>NaN</td>\n",
       "      <td>NaN</td>\n",
       "      <td>NaN</td>\n",
       "      <td>1</td>\n",
       "      <td>0</td>\n",
       "      <td>2021-03-19</td>\n",
       "    </tr>\n",
       "  </tbody>\n",
       "</table>\n",
       "</div>"
      ],
      "text/plain": [
       "   번호                    도서명                저자    출판사  발행년도           ISBN  \\\n",
       "0   1                인공지능과 흙            김동훈 지음    민음사  2021  9788937444319   \n",
       "1   2           가짜 행복 권하는 사회            김태형 지음   갈매나무  2021  9791190123969   \n",
       "2   3  나도 한 문장 잘 쓰면 바랄 게 없겠네            김선영 지음   블랙피쉬  2021  9788968332982   \n",
       "3   4                예루살렘 해변  이도 게펜 지음, 임재희 옮김  문학세계사  2021  9788970759906   \n",
       "4   5  김성곤의 중국한시기행 : 장강·황하 편            김성곤 지음    김영사  2021  9788934990833   \n",
       "\n",
       "  세트 ISBN 부가기호    권 주제분류번호  도서권수  대출건수        등록일자  \n",
       "0          NaN  NaN    NaN     1     0  2021-03-19  \n",
       "1          NaN  NaN    NaN     1     0  2021-03-19  \n",
       "2          NaN  NaN    NaN     1     0  2021-03-19  \n",
       "3          NaN  NaN    NaN     1     0  2021-03-19  \n",
       "4          NaN  NaN    NaN     1     0  2021-03-19  "
      ]
     },
     "execution_count": 47,
     "metadata": {},
     "output_type": "execute_result"
    }
   ],
   "source": [
    "ns_book6 = ns_book5.dropna(subset=['도서명','저자','출판사'])\n",
    "ns_book6 = ns_book6[ns_book6['발행년도'] != -1]\n",
    "ns_book6.head()"
   ]
  },
  {
   "cell_type": "code",
   "execution_count": 48,
   "id": "112c8afb",
   "metadata": {
    "id": "64c69e03"
   },
   "outputs": [],
   "source": [
    "ns_book6.to_csv('ns_book6.csv', index=False)"
   ]
  },
  {
   "cell_type": "code",
   "execution_count": 49,
   "id": "0b3cc079",
   "metadata": {
    "id": "f53ca694"
   },
   "outputs": [],
   "source": [
    "def data_fixing(ns_book4):\n",
    "    \"\"\"\n",
    "    잘못된 값을 수정하거나 NaN 값을 채우는 함수\n",
    "    \n",
    "    :param ns_book4: data_cleaning() 함수에서 전처리된 데이터프레임\n",
    "    \"\"\"\n",
    "    # 도서권수와 대출건수를 int32로 바꿉니다.\n",
    "    ns_book4 = ns_book4.astype({'도서권수':'int32', '대출건수': 'int32'})\n",
    "    # NaN인 세트 ISBN을 빈문자열로 바꿉니다.\n",
    "    set_isbn_na_rows = ns_book4['세트 ISBN'].isna()\n",
    "    ns_book4.loc[set_isbn_na_rows, '세트 ISBN'] = ''\n",
    "    \n",
    "    # 발행년도 열에서 연도 네 자리를 추출하여 대체합니다. 나머지 발행년도는 -1로 바꿉니다.\n",
    "    ns_book5 = ns_book4.replace({'발행년도':'.*(\\d{4}).*'}, r'\\1', regex=True)\n",
    "    unkown_year = ns_book5['발행년도'].str.contains('\\D', na=True)\n",
    "    ns_book5.loc[unkown_year, '발행년도'] = '-1'\n",
    "    \n",
    "    # 발행년도를 int32로 바꿉니다.\n",
    "    ns_book5 = ns_book5.astype({'발행년도': 'int32'})\n",
    "    # 4000년 이상인 경우 2333년을 뺍니다.\n",
    "    dangun_yy_rows = ns_book5['발행년도'].gt(4000)\n",
    "    ns_book5.loc[dangun_yy_rows, '발행년도'] = ns_book5.loc[dangun_yy_rows, '발행년도'] - 2333\n",
    "    # 여전히 4000년 이상인 경우 -1로 바꿉니다.\n",
    "    dangun_year = ns_book5['발행년도'].gt(4000)\n",
    "    ns_book5.loc[dangun_year, '발행년도'] = -1\n",
    "    # 0~1900년 사이의 발행년도는 -1로 바꿉니다.\n",
    "    old_books = ns_book5['발행년도'].gt(0) & ns_book5['발행년도'].lt(1900)\n",
    "    ns_book5.loc[old_books, '발행년도'] = -1\n",
    "    \n",
    "    # 도서명, 저자, 출판사가 NaN이거나 발행년도가 -1인 행을 찾습니다.\n",
    "    na_rows = ns_book5['도서명'].isna() | ns_book5['저자'].isna() \\\n",
    "              | ns_book5['출판사'].isna() | ns_book5['발행년도'].eq(-1)\n",
    "    # 교보문고 도서 상세 페이지에서 누락된 정보를 채웁니다.\n",
    "    updated_sample = ns_book5[na_rows].apply(get_book_info, \n",
    "        axis=1, result_type ='expand')\n",
    "    \n",
    "    # 도서명, 저자, 출판사가 NaN이거나 발행년도가 -1인 행을 삭제합니다.\n",
    "    ns_book6 = ns_book5.dropna(subset=['도서명','저자','출판사'])\n",
    "    ns_book6 = ns_book6[ns_book6['발행년도'] != -1]\n",
    "    \n",
    "    return ns_book6"
   ]
  }
 ],
 "metadata": {
  "colab": {
   "name": "03-2.ipynb",
   "provenance": []
  },
  "kernelspec": {
   "display_name": "Python 3",
   "language": "python",
   "name": "python3"
  },
  "language_info": {
   "codemirror_mode": {
    "name": "ipython",
    "version": 3
   },
   "file_extension": ".py",
   "mimetype": "text/x-python",
   "name": "python",
   "nbconvert_exporter": "python",
   "pygments_lexer": "ipython3",
   "version": "3.8.2"
  }
 },
 "nbformat": 4,
 "nbformat_minor": 5
}
